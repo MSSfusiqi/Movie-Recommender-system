{
  "nbformat": 4,
  "nbformat_minor": 0,
  "metadata": {
    "colab": {
      "name": "ECE590-13 FINAL PROJECT.ipynb",
      "provenance": [],
      "toc_visible": true,
      "include_colab_link": true
    },
    "kernelspec": {
      "name": "python3",
      "display_name": "Python 3"
    },
    "accelerator": "GPU"
  },
  "cells": [
    {
      "cell_type": "markdown",
      "metadata": {
        "id": "view-in-github",
        "colab_type": "text"
      },
      "source": [
        "<a href=\"https://colab.research.google.com/github/MSSfusiqi/Movie-Recommender-system/blob/master/movie_recommendation.ipynb\" target=\"_parent\"><img src=\"https://colab.research.google.com/assets/colab-badge.svg\" alt=\"Open In Colab\"/></a>"
      ]
    },
    {
      "cell_type": "markdown",
      "metadata": {
        "id": "elfEQVCUCYhm",
        "colab_type": "text"
      },
      "source": [
        "# Preloading"
      ]
    },
    {
      "cell_type": "markdown",
      "metadata": {
        "id": "C4CPtbdaCeFv",
        "colab_type": "text"
      },
      "source": [
        "## Link Google Drive"
      ]
    },
    {
      "cell_type": "code",
      "metadata": {
        "id": "n0sLNDUrCdNe",
        "colab_type": "code",
        "outputId": "90fec813-4e98-4522-8381-6a6680f56bd3",
        "colab": {
          "base_uri": "https://localhost:8080/",
          "height": 35
        }
      },
      "source": [
        "from google.colab import drive\n",
        "drive.mount('/content/drive')"
      ],
      "execution_count": 0,
      "outputs": [
        {
          "output_type": "stream",
          "text": [
            "Drive already mounted at /content/drive; to attempt to forcibly remount, call drive.mount(\"/content/drive\", force_remount=True).\n"
          ],
          "name": "stdout"
        }
      ]
    },
    {
      "cell_type": "markdown",
      "metadata": {
        "id": "0NrogKsQDkXL",
        "colab_type": "text"
      },
      "source": [
        "## Install Packages"
      ]
    },
    {
      "cell_type": "code",
      "metadata": {
        "id": "p5QtuH6_DhD6",
        "colab_type": "code",
        "outputId": "50122fbd-232b-4286-e074-5215c49d56bf",
        "colab": {
          "base_uri": "https://localhost:8080/",
          "height": 106
        }
      },
      "source": [
        "! pip uninstall -y tensorflow\n",
        "! pip install -q -U tensorflow-gpu==1.15.0"
      ],
      "execution_count": 0,
      "outputs": [
        {
          "output_type": "stream",
          "text": [
            "Uninstalling tensorflow-1.15.0:\n",
            "  Successfully uninstalled tensorflow-1.15.0\n",
            "\u001b[K     |████████████████████████████████| 377.0MB 46kB/s \n",
            "\u001b[K     |████████████████████████████████| 3.2MB 24.9MB/s \n",
            "\u001b[K     |████████████████████████████████| 491kB 50.7MB/s \n",
            "\u001b[?25h"
          ],
          "name": "stdout"
        }
      ]
    },
    {
      "cell_type": "markdown",
      "metadata": {
        "id": "_2aQdJoJCMWf",
        "colab_type": "text"
      },
      "source": [
        "## Import Packages"
      ]
    },
    {
      "cell_type": "code",
      "metadata": {
        "id": "fGrjgmw1_Ep_",
        "colab_type": "code",
        "outputId": "bb23a066-3f69-4fd4-cf6c-a0b209f390de",
        "colab": {
          "base_uri": "https://localhost:8080/",
          "height": 82
        }
      },
      "source": [
        "import numpy as np\n",
        "import pandas as pd\n",
        "from ast import literal_eval\n",
        "from scipy.sparse import csr_matrix\n",
        "\n",
        "from sklearn.feature_extraction.text import CountVectorizer\n",
        "from sklearn.metrics.pairwise import cosine_similarity\n",
        "from sklearn.metrics import jaccard_score\n",
        "from sklearn.model_selection import train_test_split\n",
        "\n",
        "\n",
        "# Import Keras libraries\n",
        "import tensorflow as tf\n",
        "from keras.callbacks import Callback, EarlyStopping, ModelCheckpoint\n",
        "from keras.layers import Embedding, Reshape, dot, Input\n",
        "import keras"
      ],
      "execution_count": 0,
      "outputs": [
        {
          "output_type": "display_data",
          "data": {
            "text/html": [
              "<p style=\"color: red;\">\n",
              "The default version of TensorFlow in Colab will soon switch to TensorFlow 2.x.<br>\n",
              "We recommend you <a href=\"https://www.tensorflow.org/guide/migrate\" target=\"_blank\">upgrade</a> now \n",
              "or ensure your notebook will continue to use TensorFlow 1.x via the <code>%tensorflow_version 1.x</code> magic:\n",
              "<a href=\"https://colab.research.google.com/notebooks/tensorflow_version.ipynb\" target=\"_blank\">more info</a>.</p>\n"
            ],
            "text/plain": [
              "<IPython.core.display.HTML object>"
            ]
          },
          "metadata": {
            "tags": []
          }
        },
        {
          "output_type": "stream",
          "text": [
            "Using TensorFlow backend.\n"
          ],
          "name": "stderr"
        }
      ]
    },
    {
      "cell_type": "markdown",
      "metadata": {
        "id": "NXzTGlArCTbG",
        "colab_type": "text"
      },
      "source": [
        "## Assign GPU "
      ]
    },
    {
      "cell_type": "code",
      "metadata": {
        "id": "A-x5rTdX329-",
        "colab_type": "code",
        "outputId": "b5562014-a776-41d9-d935-aa4836c7ccd5",
        "colab": {
          "base_uri": "https://localhost:8080/",
          "height": 35
        }
      },
      "source": [
        "tf.config.experimental.list_physical_devices('GPU') "
      ],
      "execution_count": 0,
      "outputs": [
        {
          "output_type": "execute_result",
          "data": {
            "text/plain": [
              "[PhysicalDevice(name='/physical_device:GPU:0', device_type='GPU')]"
            ]
          },
          "metadata": {
            "tags": []
          },
          "execution_count": 3
        }
      ]
    },
    {
      "cell_type": "code",
      "metadata": {
        "id": "e3vOQRiY4hxT",
        "colab_type": "code",
        "colab": {}
      },
      "source": [
        "import os\n",
        "from keras import backend as K\n",
        "\n",
        "tf.config.experimental.list_physical_devices('GPU') \n",
        "# Assign GPU\n",
        "os.environ['CUDA_VISIBLE_DEVICES'] ='0'\n",
        "#CONFIG MEMORY USAGE\n",
        "config = tf.ConfigProto() #device_count = {'GPU':1} \n",
        "config.gpu_options.allow_growth = True\n",
        "session = tf.Session(config=config)\n",
        "K.set_session(session)"
      ],
      "execution_count": 0,
      "outputs": []
    },
    {
      "cell_type": "markdown",
      "metadata": {
        "id": "mMqPTnlKQl1U",
        "colab_type": "text"
      },
      "source": [
        "# Exploration on small dataset"
      ]
    },
    {
      "cell_type": "code",
      "metadata": {
        "id": "tJzQTXPe_Nyh",
        "colab_type": "code",
        "colab": {}
      },
      "source": [
        "tmdb_5000_movies = pd.read_csv('/content/drive/My Drive/tmdb_5000_movies.csv.zip')\n",
        "tmdb_5000_credits = pd.read_csv('/content/drive/My Drive/tmdb_5000_credits.csv.zip')\n",
        "\n",
        "# Parse the stringified features into their corresponding python objects\n",
        "f_clean_movies = ['genres','production_companies','production_countries','spoken_languages','keywords']\n",
        "f_clean_credits = ['cast','crew']\n",
        "for f in f_clean_movies:\n",
        "    tmdb_5000_movies[f] = tmdb_5000_movies[f].apply(literal_eval)\n",
        "for f in f_clean_credits:\n",
        "    tmdb_5000_credits[f] = tmdb_5000_credits[f].apply(literal_eval)"
      ],
      "execution_count": 0,
      "outputs": []
    },
    {
      "cell_type": "code",
      "metadata": {
        "id": "nSeLkqpT-93s",
        "colab_type": "code",
        "colab": {}
      },
      "source": [
        "genome_tags = pd.read_csv('/content/drive/My Drive/genome-tags.csv')\n",
        "genome_scores = pd.read_csv('/content/drive/My Drive/genome-scores.csv')\n",
        "links = pd.read_csv('/content/drive/My Drive/links.csv')\n",
        "movies = pd.read_csv('/content/drive/My Drive/movies.csv')\n",
        "ratings = pd.read_csv('/content/drive/My Drive/ratings.csv')\n",
        "tags = pd.read_csv('/content/drive/My Drive/tags.csv')"
      ],
      "execution_count": 0,
      "outputs": []
    },
    {
      "cell_type": "code",
      "metadata": {
        "id": "MwgspPhs_WvJ",
        "colab_type": "code",
        "colab": {}
      },
      "source": [
        "movies_metadata.head()"
      ],
      "execution_count": 0,
      "outputs": []
    },
    {
      "cell_type": "code",
      "metadata": {
        "id": "WO5Zu1b_Ashc",
        "colab_type": "code",
        "outputId": "5fa8802c-4a0c-4656-8ff5-e93d55f0d0fa",
        "colab": {
          "base_uri": "https://localhost:8080/",
          "height": 72
        }
      },
      "source": [
        "movies_metadata = pd.read_csv('/content/drive/My Drive/movies_metadata.csv.zip')\n",
        "keywords = pd.read_csv('/content/drive/My Drive/keywords.csv.zip')\n",
        "credits = pd.read_csv('/content/drive/My Drive/credits.csv.zip')"
      ],
      "execution_count": 0,
      "outputs": [
        {
          "output_type": "stream",
          "text": [
            "/usr/local/lib/python3.6/dist-packages/IPython/core/interactiveshell.py:2718: DtypeWarning: Columns (10) have mixed types. Specify dtype option on import or set low_memory=False.\n",
            "  interactivity=interactivity, compiler=compiler, result=result)\n"
          ],
          "name": "stderr"
        }
      ]
    },
    {
      "cell_type": "code",
      "metadata": {
        "id": "sbMF-FszC9NU",
        "colab_type": "code",
        "outputId": "49a5abc4-6616-4f9e-a648-79e45e7bb764",
        "colab": {
          "base_uri": "https://localhost:8080/",
          "height": 636
        }
      },
      "source": [
        "movies_metadata.head()"
      ],
      "execution_count": 0,
      "outputs": [
        {
          "output_type": "execute_result",
          "data": {
            "text/html": [
              "<div>\n",
              "<style scoped>\n",
              "    .dataframe tbody tr th:only-of-type {\n",
              "        vertical-align: middle;\n",
              "    }\n",
              "\n",
              "    .dataframe tbody tr th {\n",
              "        vertical-align: top;\n",
              "    }\n",
              "\n",
              "    .dataframe thead th {\n",
              "        text-align: right;\n",
              "    }\n",
              "</style>\n",
              "<table border=\"1\" class=\"dataframe\">\n",
              "  <thead>\n",
              "    <tr style=\"text-align: right;\">\n",
              "      <th></th>\n",
              "      <th>adult</th>\n",
              "      <th>belongs_to_collection</th>\n",
              "      <th>budget</th>\n",
              "      <th>genres</th>\n",
              "      <th>homepage</th>\n",
              "      <th>id</th>\n",
              "      <th>imdb_id</th>\n",
              "      <th>original_language</th>\n",
              "      <th>original_title</th>\n",
              "      <th>overview</th>\n",
              "      <th>popularity</th>\n",
              "      <th>poster_path</th>\n",
              "      <th>production_companies</th>\n",
              "      <th>production_countries</th>\n",
              "      <th>release_date</th>\n",
              "      <th>revenue</th>\n",
              "      <th>runtime</th>\n",
              "      <th>spoken_languages</th>\n",
              "      <th>status</th>\n",
              "      <th>tagline</th>\n",
              "      <th>title</th>\n",
              "      <th>video</th>\n",
              "      <th>vote_average</th>\n",
              "      <th>vote_count</th>\n",
              "    </tr>\n",
              "  </thead>\n",
              "  <tbody>\n",
              "    <tr>\n",
              "      <th>0</th>\n",
              "      <td>False</td>\n",
              "      <td>{'id': 10194, 'name': 'Toy Story Collection', ...</td>\n",
              "      <td>30000000</td>\n",
              "      <td>[{'id': 16, 'name': 'Animation'}, {'id': 35, '...</td>\n",
              "      <td>http://toystory.disney.com/toy-story</td>\n",
              "      <td>862</td>\n",
              "      <td>tt0114709</td>\n",
              "      <td>en</td>\n",
              "      <td>Toy Story</td>\n",
              "      <td>Led by Woody, Andy's toys live happily in his ...</td>\n",
              "      <td>21.9469</td>\n",
              "      <td>/rhIRbceoE9lR4veEXuwCC2wARtG.jpg</td>\n",
              "      <td>[{'name': 'Pixar Animation Studios', 'id': 3}]</td>\n",
              "      <td>[{'iso_3166_1': 'US', 'name': 'United States o...</td>\n",
              "      <td>1995-10-30</td>\n",
              "      <td>373554033.0</td>\n",
              "      <td>81.0</td>\n",
              "      <td>[{'iso_639_1': 'en', 'name': 'English'}]</td>\n",
              "      <td>Released</td>\n",
              "      <td>NaN</td>\n",
              "      <td>Toy Story</td>\n",
              "      <td>False</td>\n",
              "      <td>7.7</td>\n",
              "      <td>5415.0</td>\n",
              "    </tr>\n",
              "    <tr>\n",
              "      <th>1</th>\n",
              "      <td>False</td>\n",
              "      <td>NaN</td>\n",
              "      <td>65000000</td>\n",
              "      <td>[{'id': 12, 'name': 'Adventure'}, {'id': 14, '...</td>\n",
              "      <td>NaN</td>\n",
              "      <td>8844</td>\n",
              "      <td>tt0113497</td>\n",
              "      <td>en</td>\n",
              "      <td>Jumanji</td>\n",
              "      <td>When siblings Judy and Peter discover an encha...</td>\n",
              "      <td>17.0155</td>\n",
              "      <td>/vzmL6fP7aPKNKPRTFnZmiUfciyV.jpg</td>\n",
              "      <td>[{'name': 'TriStar Pictures', 'id': 559}, {'na...</td>\n",
              "      <td>[{'iso_3166_1': 'US', 'name': 'United States o...</td>\n",
              "      <td>1995-12-15</td>\n",
              "      <td>262797249.0</td>\n",
              "      <td>104.0</td>\n",
              "      <td>[{'iso_639_1': 'en', 'name': 'English'}, {'iso...</td>\n",
              "      <td>Released</td>\n",
              "      <td>Roll the dice and unleash the excitement!</td>\n",
              "      <td>Jumanji</td>\n",
              "      <td>False</td>\n",
              "      <td>6.9</td>\n",
              "      <td>2413.0</td>\n",
              "    </tr>\n",
              "    <tr>\n",
              "      <th>2</th>\n",
              "      <td>False</td>\n",
              "      <td>{'id': 119050, 'name': 'Grumpy Old Men Collect...</td>\n",
              "      <td>0</td>\n",
              "      <td>[{'id': 10749, 'name': 'Romance'}, {'id': 35, ...</td>\n",
              "      <td>NaN</td>\n",
              "      <td>15602</td>\n",
              "      <td>tt0113228</td>\n",
              "      <td>en</td>\n",
              "      <td>Grumpier Old Men</td>\n",
              "      <td>A family wedding reignites the ancient feud be...</td>\n",
              "      <td>11.7129</td>\n",
              "      <td>/6ksm1sjKMFLbO7UY2i6G1ju9SML.jpg</td>\n",
              "      <td>[{'name': 'Warner Bros.', 'id': 6194}, {'name'...</td>\n",
              "      <td>[{'iso_3166_1': 'US', 'name': 'United States o...</td>\n",
              "      <td>1995-12-22</td>\n",
              "      <td>0.0</td>\n",
              "      <td>101.0</td>\n",
              "      <td>[{'iso_639_1': 'en', 'name': 'English'}]</td>\n",
              "      <td>Released</td>\n",
              "      <td>Still Yelling. Still Fighting. Still Ready for...</td>\n",
              "      <td>Grumpier Old Men</td>\n",
              "      <td>False</td>\n",
              "      <td>6.5</td>\n",
              "      <td>92.0</td>\n",
              "    </tr>\n",
              "    <tr>\n",
              "      <th>3</th>\n",
              "      <td>False</td>\n",
              "      <td>NaN</td>\n",
              "      <td>16000000</td>\n",
              "      <td>[{'id': 35, 'name': 'Comedy'}, {'id': 18, 'nam...</td>\n",
              "      <td>NaN</td>\n",
              "      <td>31357</td>\n",
              "      <td>tt0114885</td>\n",
              "      <td>en</td>\n",
              "      <td>Waiting to Exhale</td>\n",
              "      <td>Cheated on, mistreated and stepped on, the wom...</td>\n",
              "      <td>3.85949</td>\n",
              "      <td>/16XOMpEaLWkrcPqSQqhTmeJuqQl.jpg</td>\n",
              "      <td>[{'name': 'Twentieth Century Fox Film Corporat...</td>\n",
              "      <td>[{'iso_3166_1': 'US', 'name': 'United States o...</td>\n",
              "      <td>1995-12-22</td>\n",
              "      <td>81452156.0</td>\n",
              "      <td>127.0</td>\n",
              "      <td>[{'iso_639_1': 'en', 'name': 'English'}]</td>\n",
              "      <td>Released</td>\n",
              "      <td>Friends are the people who let you be yourself...</td>\n",
              "      <td>Waiting to Exhale</td>\n",
              "      <td>False</td>\n",
              "      <td>6.1</td>\n",
              "      <td>34.0</td>\n",
              "    </tr>\n",
              "    <tr>\n",
              "      <th>4</th>\n",
              "      <td>False</td>\n",
              "      <td>{'id': 96871, 'name': 'Father of the Bride Col...</td>\n",
              "      <td>0</td>\n",
              "      <td>[{'id': 35, 'name': 'Comedy'}]</td>\n",
              "      <td>NaN</td>\n",
              "      <td>11862</td>\n",
              "      <td>tt0113041</td>\n",
              "      <td>en</td>\n",
              "      <td>Father of the Bride Part II</td>\n",
              "      <td>Just when George Banks has recovered from his ...</td>\n",
              "      <td>8.38752</td>\n",
              "      <td>/e64sOI48hQXyru7naBFyssKFxVd.jpg</td>\n",
              "      <td>[{'name': 'Sandollar Productions', 'id': 5842}...</td>\n",
              "      <td>[{'iso_3166_1': 'US', 'name': 'United States o...</td>\n",
              "      <td>1995-02-10</td>\n",
              "      <td>76578911.0</td>\n",
              "      <td>106.0</td>\n",
              "      <td>[{'iso_639_1': 'en', 'name': 'English'}]</td>\n",
              "      <td>Released</td>\n",
              "      <td>Just When His World Is Back To Normal... He's ...</td>\n",
              "      <td>Father of the Bride Part II</td>\n",
              "      <td>False</td>\n",
              "      <td>5.7</td>\n",
              "      <td>173.0</td>\n",
              "    </tr>\n",
              "  </tbody>\n",
              "</table>\n",
              "</div>"
            ],
            "text/plain": [
              "   adult  ... vote_count\n",
              "0  False  ...     5415.0\n",
              "1  False  ...     2413.0\n",
              "2  False  ...       92.0\n",
              "3  False  ...       34.0\n",
              "4  False  ...      173.0\n",
              "\n",
              "[5 rows x 24 columns]"
            ]
          },
          "metadata": {
            "tags": []
          },
          "execution_count": 58
        }
      ]
    },
    {
      "cell_type": "code",
      "metadata": {
        "id": "UZ4Zr_CxDLAy",
        "colab_type": "code",
        "outputId": "a4fdcd5c-85c2-455b-9e64-9d8a47e44741",
        "colab": {
          "base_uri": "https://localhost:8080/",
          "height": 194
        }
      },
      "source": [
        "keywords.head()"
      ],
      "execution_count": 0,
      "outputs": [
        {
          "output_type": "execute_result",
          "data": {
            "text/html": [
              "<div>\n",
              "<style scoped>\n",
              "    .dataframe tbody tr th:only-of-type {\n",
              "        vertical-align: middle;\n",
              "    }\n",
              "\n",
              "    .dataframe tbody tr th {\n",
              "        vertical-align: top;\n",
              "    }\n",
              "\n",
              "    .dataframe thead th {\n",
              "        text-align: right;\n",
              "    }\n",
              "</style>\n",
              "<table border=\"1\" class=\"dataframe\">\n",
              "  <thead>\n",
              "    <tr style=\"text-align: right;\">\n",
              "      <th></th>\n",
              "      <th>id</th>\n",
              "      <th>keywords</th>\n",
              "    </tr>\n",
              "  </thead>\n",
              "  <tbody>\n",
              "    <tr>\n",
              "      <th>0</th>\n",
              "      <td>862</td>\n",
              "      <td>[{'id': 931, 'name': 'jealousy'}, {'id': 4290,...</td>\n",
              "    </tr>\n",
              "    <tr>\n",
              "      <th>1</th>\n",
              "      <td>8844</td>\n",
              "      <td>[{'id': 10090, 'name': 'board game'}, {'id': 1...</td>\n",
              "    </tr>\n",
              "    <tr>\n",
              "      <th>2</th>\n",
              "      <td>15602</td>\n",
              "      <td>[{'id': 1495, 'name': 'fishing'}, {'id': 12392...</td>\n",
              "    </tr>\n",
              "    <tr>\n",
              "      <th>3</th>\n",
              "      <td>31357</td>\n",
              "      <td>[{'id': 818, 'name': 'based on novel'}, {'id':...</td>\n",
              "    </tr>\n",
              "    <tr>\n",
              "      <th>4</th>\n",
              "      <td>11862</td>\n",
              "      <td>[{'id': 1009, 'name': 'baby'}, {'id': 1599, 'n...</td>\n",
              "    </tr>\n",
              "  </tbody>\n",
              "</table>\n",
              "</div>"
            ],
            "text/plain": [
              "      id                                           keywords\n",
              "0    862  [{'id': 931, 'name': 'jealousy'}, {'id': 4290,...\n",
              "1   8844  [{'id': 10090, 'name': 'board game'}, {'id': 1...\n",
              "2  15602  [{'id': 1495, 'name': 'fishing'}, {'id': 12392...\n",
              "3  31357  [{'id': 818, 'name': 'based on novel'}, {'id':...\n",
              "4  11862  [{'id': 1009, 'name': 'baby'}, {'id': 1599, 'n..."
            ]
          },
          "metadata": {
            "tags": []
          },
          "execution_count": 59
        }
      ]
    },
    {
      "cell_type": "code",
      "metadata": {
        "id": "mJTk1l2yDbrg",
        "colab_type": "code",
        "outputId": "3c0aa98b-0bbc-4c0d-a341-fe14626704f7",
        "colab": {
          "base_uri": "https://localhost:8080/",
          "height": 194
        }
      },
      "source": [
        "credits.head()"
      ],
      "execution_count": 0,
      "outputs": [
        {
          "output_type": "execute_result",
          "data": {
            "text/html": [
              "<div>\n",
              "<style scoped>\n",
              "    .dataframe tbody tr th:only-of-type {\n",
              "        vertical-align: middle;\n",
              "    }\n",
              "\n",
              "    .dataframe tbody tr th {\n",
              "        vertical-align: top;\n",
              "    }\n",
              "\n",
              "    .dataframe thead th {\n",
              "        text-align: right;\n",
              "    }\n",
              "</style>\n",
              "<table border=\"1\" class=\"dataframe\">\n",
              "  <thead>\n",
              "    <tr style=\"text-align: right;\">\n",
              "      <th></th>\n",
              "      <th>cast</th>\n",
              "      <th>crew</th>\n",
              "      <th>id</th>\n",
              "    </tr>\n",
              "  </thead>\n",
              "  <tbody>\n",
              "    <tr>\n",
              "      <th>0</th>\n",
              "      <td>[{'cast_id': 14, 'character': 'Woody (voice)',...</td>\n",
              "      <td>[{'credit_id': '52fe4284c3a36847f8024f49', 'de...</td>\n",
              "      <td>862</td>\n",
              "    </tr>\n",
              "    <tr>\n",
              "      <th>1</th>\n",
              "      <td>[{'cast_id': 1, 'character': 'Alan Parrish', '...</td>\n",
              "      <td>[{'credit_id': '52fe44bfc3a36847f80a7cd1', 'de...</td>\n",
              "      <td>8844</td>\n",
              "    </tr>\n",
              "    <tr>\n",
              "      <th>2</th>\n",
              "      <td>[{'cast_id': 2, 'character': 'Max Goldman', 'c...</td>\n",
              "      <td>[{'credit_id': '52fe466a9251416c75077a89', 'de...</td>\n",
              "      <td>15602</td>\n",
              "    </tr>\n",
              "    <tr>\n",
              "      <th>3</th>\n",
              "      <td>[{'cast_id': 1, 'character': \"Savannah 'Vannah...</td>\n",
              "      <td>[{'credit_id': '52fe44779251416c91011acb', 'de...</td>\n",
              "      <td>31357</td>\n",
              "    </tr>\n",
              "    <tr>\n",
              "      <th>4</th>\n",
              "      <td>[{'cast_id': 1, 'character': 'George Banks', '...</td>\n",
              "      <td>[{'credit_id': '52fe44959251416c75039ed7', 'de...</td>\n",
              "      <td>11862</td>\n",
              "    </tr>\n",
              "  </tbody>\n",
              "</table>\n",
              "</div>"
            ],
            "text/plain": [
              "                                                cast  ...     id\n",
              "0  [{'cast_id': 14, 'character': 'Woody (voice)',...  ...    862\n",
              "1  [{'cast_id': 1, 'character': 'Alan Parrish', '...  ...   8844\n",
              "2  [{'cast_id': 2, 'character': 'Max Goldman', 'c...  ...  15602\n",
              "3  [{'cast_id': 1, 'character': \"Savannah 'Vannah...  ...  31357\n",
              "4  [{'cast_id': 1, 'character': 'George Banks', '...  ...  11862\n",
              "\n",
              "[5 rows x 3 columns]"
            ]
          },
          "metadata": {
            "tags": []
          },
          "execution_count": 63
        }
      ]
    },
    {
      "cell_type": "markdown",
      "metadata": {
        "id": "tXHAH6bFKh2m",
        "colab_type": "text"
      },
      "source": [
        "## Dataframe Preparation"
      ]
    },
    {
      "cell_type": "code",
      "metadata": {
        "id": "s3Duvi-sHbUL",
        "colab_type": "code",
        "colab": {}
      },
      "source": [
        "#merge two df\n",
        "tmdb_5000 = pd.merge(tmdb_5000_movies,tmdb_5000_credits,left_on='id',right_on='movie_id',suffixes=('', '_y'))\n",
        "#drop features we don't need \n",
        "to_drop = ['budget','homepage','original_language','original_title','status','title_y','id']\n",
        "tmdb_5000.drop(to_drop,axis=1, inplace=True)"
      ],
      "execution_count": 0,
      "outputs": []
    },
    {
      "cell_type": "markdown",
      "metadata": {
        "id": "NLLpesGjKeUR",
        "colab_type": "text"
      },
      "source": [
        "## Feature Engineering"
      ]
    },
    {
      "cell_type": "markdown",
      "metadata": {
        "id": "HUTNDYRDK-vm",
        "colab_type": "text"
      },
      "source": [
        "### Functions"
      ]
    },
    {
      "cell_type": "code",
      "metadata": {
        "id": "2dHSt8_CK9B2",
        "colab_type": "code",
        "colab": {}
      },
      "source": [
        "def get_top_n(x,n):\n",
        "    \"\"\"Returns the list top n elements or entire list; whichever is more.\n",
        "    x: dataframe series\n",
        "    n: top_n\n",
        "    return: updated dataframe series\n",
        "    \"\"\"\n",
        "    if isinstance(x, list):\n",
        "        names = [i['name'] for i in x]\n",
        "        #Check if more than n elements exist. If yes, return only first three. If no, return entire list.\n",
        "        if len(names) > n:\n",
        "            names = names[:n]\n",
        "        return names\n",
        "\n",
        "    #Return empty list in case of missing/malformed data\n",
        "    return []\n",
        "\n",
        "# Get the director's name from the crew feature. If director is not listed, return NaN\n",
        "def get_director(x):\n",
        "    for i in x:\n",
        "        if i['job'] == 'Director':\n",
        "            return i['name']\n",
        "    return np.nan\n",
        "\n",
        "# Function to convert all strings to lower case and strip names of spaces\n",
        "def clean_data(x):\n",
        "    if isinstance(x, list):\n",
        "        return [str.lower(i.replace(\" \", \"\")) for i in x]\n",
        "    else:\n",
        "        #Check if director exists. If not, return empty string\n",
        "        if isinstance(x, str):\n",
        "            return str.lower(x.replace(\" \", \"\"))\n",
        "        else:\n",
        "            return ''"
      ],
      "execution_count": 0,
      "outputs": []
    },
    {
      "cell_type": "code",
      "metadata": {
        "id": "6yocZNICIVBQ",
        "colab_type": "code",
        "colab": {}
      },
      "source": [
        "# top three for certain features\n",
        "features_3 = ['cast', 'genres','production_companies','production_countries','spoken_languages']\n",
        "\n",
        "for feature in features_3:\n",
        "    tmdb_5000[feature] = tmdb_5000[feature].apply(get_top_n,args = (3,))\n",
        "\n",
        "# top five for certain features\n",
        "features_5 = ['keywords']\n",
        "for feature in features_5:\n",
        "    tmdb_5000[feature] = tmdb_5000[feature].apply(get_top_n,args = (5,))"
      ],
      "execution_count": 0,
      "outputs": []
    },
    {
      "cell_type": "code",
      "metadata": {
        "id": "_EcwxFR_RL7h",
        "colab_type": "code",
        "colab": {}
      },
      "source": [
        "tmdb_5000['director'] = tmdb_5000['crew'].apply(get_director)\n",
        "tmdb_5000.drop('crew',axis = 1,inplace = True)"
      ],
      "execution_count": 0,
      "outputs": []
    },
    {
      "cell_type": "code",
      "metadata": {
        "id": "02g2r02-SVQl",
        "colab_type": "code",
        "colab": {}
      },
      "source": [
        "# Apply clean_data function to features.\n",
        "features = ['cast', 'genres','production_companies','production_countries','spoken_languages','keywords','director']\n",
        "\n",
        "for feature in features:\n",
        "    tmdb_5000[feature] =tmdb_5000[feature].apply(clean_data)"
      ],
      "execution_count": 0,
      "outputs": []
    },
    {
      "cell_type": "code",
      "metadata": {
        "id": "jXDnvR4RTD9K",
        "colab_type": "code",
        "colab": {}
      },
      "source": [
        "# keep only release year for each movie\n",
        "tmdb_5000['release_date'] = pd.to_datetime(tmdb_5000['release_date'])\n",
        "tmdb_5000['release_year'] = tmdb_5000['release_date'].dt.year\n",
        "tmdb_5000['release_year'] = tmdb_5000['release_year'].astype('Int64')\n",
        "tmdb_5000.drop('release_date',axis = 1, inplace = True)"
      ],
      "execution_count": 0,
      "outputs": []
    },
    {
      "cell_type": "code",
      "metadata": {
        "id": "pB-RachuIqo6",
        "colab_type": "code",
        "outputId": "50283c67-26e3-4fef-f3e0-f1533a31ba51",
        "colab": {
          "base_uri": "https://localhost:8080/",
          "height": 653
        }
      },
      "source": [
        "tmdb_5000.head()"
      ],
      "execution_count": 0,
      "outputs": [
        {
          "output_type": "execute_result",
          "data": {
            "text/html": [
              "<div>\n",
              "<style scoped>\n",
              "    .dataframe tbody tr th:only-of-type {\n",
              "        vertical-align: middle;\n",
              "    }\n",
              "\n",
              "    .dataframe tbody tr th {\n",
              "        vertical-align: top;\n",
              "    }\n",
              "\n",
              "    .dataframe thead th {\n",
              "        text-align: right;\n",
              "    }\n",
              "</style>\n",
              "<table border=\"1\" class=\"dataframe\">\n",
              "  <thead>\n",
              "    <tr style=\"text-align: right;\">\n",
              "      <th></th>\n",
              "      <th>genres</th>\n",
              "      <th>keywords</th>\n",
              "      <th>overview</th>\n",
              "      <th>popularity</th>\n",
              "      <th>production_companies</th>\n",
              "      <th>production_countries</th>\n",
              "      <th>revenue</th>\n",
              "      <th>runtime</th>\n",
              "      <th>spoken_languages</th>\n",
              "      <th>tagline</th>\n",
              "      <th>title</th>\n",
              "      <th>vote_average</th>\n",
              "      <th>vote_count</th>\n",
              "      <th>movie_id</th>\n",
              "      <th>cast</th>\n",
              "      <th>director</th>\n",
              "      <th>release_year</th>\n",
              "    </tr>\n",
              "  </thead>\n",
              "  <tbody>\n",
              "    <tr>\n",
              "      <th>0</th>\n",
              "      <td>[action, adventure, fantasy]</td>\n",
              "      <td>[cultureclash, future, spacewar, spacecolony, ...</td>\n",
              "      <td>In the 22nd century, a paraplegic Marine is di...</td>\n",
              "      <td>150.437577</td>\n",
              "      <td>[ingeniousfilmpartners, twentiethcenturyfoxfil...</td>\n",
              "      <td>[unitedstatesofamerica, unitedkingdom]</td>\n",
              "      <td>2787965087</td>\n",
              "      <td>162.0</td>\n",
              "      <td>[english, español]</td>\n",
              "      <td>Enter the World of Pandora.</td>\n",
              "      <td>Avatar</td>\n",
              "      <td>7.2</td>\n",
              "      <td>11800</td>\n",
              "      <td>19995</td>\n",
              "      <td>[samworthington, zoesaldana, sigourneyweaver]</td>\n",
              "      <td>jamescameron</td>\n",
              "      <td>2009</td>\n",
              "    </tr>\n",
              "    <tr>\n",
              "      <th>1</th>\n",
              "      <td>[adventure, fantasy, action]</td>\n",
              "      <td>[ocean, drugabuse, exoticisland, eastindiatrad...</td>\n",
              "      <td>Captain Barbossa, long believed to be dead, ha...</td>\n",
              "      <td>139.082615</td>\n",
              "      <td>[waltdisneypictures, jerrybruckheimerfilms, se...</td>\n",
              "      <td>[unitedstatesofamerica]</td>\n",
              "      <td>961000000</td>\n",
              "      <td>169.0</td>\n",
              "      <td>[english]</td>\n",
              "      <td>At the end of the world, the adventure begins.</td>\n",
              "      <td>Pirates of the Caribbean: At World's End</td>\n",
              "      <td>6.9</td>\n",
              "      <td>4500</td>\n",
              "      <td>285</td>\n",
              "      <td>[johnnydepp, orlandobloom, keiraknightley]</td>\n",
              "      <td>goreverbinski</td>\n",
              "      <td>2007</td>\n",
              "    </tr>\n",
              "    <tr>\n",
              "      <th>2</th>\n",
              "      <td>[action, adventure, crime]</td>\n",
              "      <td>[spy, basedonnovel, secretagent, sequel, mi6]</td>\n",
              "      <td>A cryptic message from Bond’s past sends him o...</td>\n",
              "      <td>107.376788</td>\n",
              "      <td>[columbiapictures, danjaq, b24]</td>\n",
              "      <td>[unitedkingdom, unitedstatesofamerica]</td>\n",
              "      <td>880674609</td>\n",
              "      <td>148.0</td>\n",
              "      <td>[français, english, español]</td>\n",
              "      <td>A Plan No One Escapes</td>\n",
              "      <td>Spectre</td>\n",
              "      <td>6.3</td>\n",
              "      <td>4466</td>\n",
              "      <td>206647</td>\n",
              "      <td>[danielcraig, christophwaltz, léaseydoux]</td>\n",
              "      <td>sammendes</td>\n",
              "      <td>2015</td>\n",
              "    </tr>\n",
              "    <tr>\n",
              "      <th>3</th>\n",
              "      <td>[action, crime, drama]</td>\n",
              "      <td>[dccomics, crimefighter, terrorist, secretiden...</td>\n",
              "      <td>Following the death of District Attorney Harve...</td>\n",
              "      <td>112.312950</td>\n",
              "      <td>[legendarypictures, warnerbros., dcentertainment]</td>\n",
              "      <td>[unitedstatesofamerica]</td>\n",
              "      <td>1084939099</td>\n",
              "      <td>165.0</td>\n",
              "      <td>[english]</td>\n",
              "      <td>The Legend Ends</td>\n",
              "      <td>The Dark Knight Rises</td>\n",
              "      <td>7.6</td>\n",
              "      <td>9106</td>\n",
              "      <td>49026</td>\n",
              "      <td>[christianbale, michaelcaine, garyoldman]</td>\n",
              "      <td>christophernolan</td>\n",
              "      <td>2012</td>\n",
              "    </tr>\n",
              "    <tr>\n",
              "      <th>4</th>\n",
              "      <td>[action, adventure, sciencefiction]</td>\n",
              "      <td>[basedonnovel, mars, medallion, spacetravel, p...</td>\n",
              "      <td>John Carter is a war-weary, former military ca...</td>\n",
              "      <td>43.926995</td>\n",
              "      <td>[waltdisneypictures]</td>\n",
              "      <td>[unitedstatesofamerica]</td>\n",
              "      <td>284139100</td>\n",
              "      <td>132.0</td>\n",
              "      <td>[english]</td>\n",
              "      <td>Lost in our world, found in another.</td>\n",
              "      <td>John Carter</td>\n",
              "      <td>6.1</td>\n",
              "      <td>2124</td>\n",
              "      <td>49529</td>\n",
              "      <td>[taylorkitsch, lynncollins, samanthamorton]</td>\n",
              "      <td>andrewstanton</td>\n",
              "      <td>2012</td>\n",
              "    </tr>\n",
              "  </tbody>\n",
              "</table>\n",
              "</div>"
            ],
            "text/plain": [
              "                                genres  ... release_year\n",
              "0         [action, adventure, fantasy]  ...         2009\n",
              "1         [adventure, fantasy, action]  ...         2007\n",
              "2           [action, adventure, crime]  ...         2015\n",
              "3               [action, crime, drama]  ...         2012\n",
              "4  [action, adventure, sciencefiction]  ...         2012\n",
              "\n",
              "[5 rows x 17 columns]"
            ]
          },
          "metadata": {
            "tags": []
          },
          "execution_count": 10
        }
      ]
    },
    {
      "cell_type": "markdown",
      "metadata": {
        "id": "p8cdVj2R0aJn",
        "colab_type": "text"
      },
      "source": [
        "## Content-based Recommendation"
      ]
    },
    {
      "cell_type": "code",
      "metadata": {
        "id": "yIVtsXtqtz8S",
        "colab_type": "code",
        "colab": {}
      },
      "source": [
        "def metadata(x):\n",
        "    return ' '.join(x['keywords']) + ' ' + ' '.join(x['cast']) + ' ' + x['director'] + ' ' + ' '.join(x['genres']) +' '+ ' '.join('production_companies') +' '+ ' '.join('production_countries')+' '+' '.join('spoken_languages') \n",
        "\n",
        "# Function that takes in movie title as input and outputs most similar movies\n",
        "def get_recommendations(title, cosine_sim,df):\n",
        "    # Get the index of the movie that matches the title\n",
        "    #Construct a reverse map of indices and movie titles\n",
        "    indices = pd.Series(df.index, index=df['title']).drop_duplicates()\n",
        "    idx = indices[title]\n",
        "\n",
        "    idx_mod = np.mod(idx,10000)\n",
        "    # Get the pairwsie similarity scores of all movies with that movie\n",
        "    sim_scores = list(enumerate(cosine_sim[idx_mod]))\n",
        "\n",
        "    # Sort the movies based on the similarity scores\n",
        "    sim_scores = sorted(sim_scores, key=lambda x: x[1], reverse=True)\n",
        "\n",
        "    # Get the scores of the 10 most similar movies\n",
        "    sim_scores = sim_scores[1:11]\n",
        "\n",
        "    # Get the movie indices\n",
        "    movie_indices = [i[0] for i in sim_scores]\n",
        "\n",
        "    # Return the top 10 most similar movies\n",
        "    return df['title'].iloc[movie_indices]"
      ],
      "execution_count": 0,
      "outputs": []
    },
    {
      "cell_type": "code",
      "metadata": {
        "id": "J3iZ82Jq0ikN",
        "colab_type": "code",
        "colab": {}
      },
      "source": [
        "tmdb_5000['metadata'] = tmdb_5000.apply(metadata, axis=1)"
      ],
      "execution_count": 0,
      "outputs": []
    },
    {
      "cell_type": "code",
      "metadata": {
        "id": "YMv_8oOOzxip",
        "colab_type": "code",
        "outputId": "c661f8f4-e3a6-4007-82f4-4cb24ffb840d",
        "colab": {
          "base_uri": "https://localhost:8080/",
          "height": 230
        }
      },
      "source": [
        "tmdb_5000['metadata']"
      ],
      "execution_count": 0,
      "outputs": [
        {
          "output_type": "execute_result",
          "data": {
            "text/plain": [
              "0       cultureclash future spacewar spacecolony socie...\n",
              "1       ocean drugabuse exoticisland eastindiatradingc...\n",
              "2       spy basedonnovel secretagent sequel mi6 daniel...\n",
              "3       dccomics crimefighter terrorist secretidentity...\n",
              "4       basedonnovel mars medallion spacetravel prince...\n",
              "                              ...                        \n",
              "4798    unitedstates–mexicobarrier legs arms paperknif...\n",
              "4799     edwardburns kerrybishé marshadietlein edwardb...\n",
              "4800    date loveatfirstsight narration investigation ...\n",
              "4801     danielhenney elizacoupe billpaxton danielhsia...\n",
              "4802    obsession camcorder crush dreamgirl drewbarrym...\n",
              "Name: metadata, Length: 4803, dtype: object"
            ]
          },
          "metadata": {
            "tags": []
          },
          "execution_count": 24
        }
      ]
    },
    {
      "cell_type": "code",
      "metadata": {
        "id": "54hOOag2JN2G",
        "colab_type": "code",
        "colab": {}
      },
      "source": [
        ""
      ],
      "execution_count": 0,
      "outputs": []
    },
    {
      "cell_type": "code",
      "metadata": {
        "id": "9oG4r2_Kz0ME",
        "colab_type": "code",
        "colab": {}
      },
      "source": [
        "#create the count matrix\n",
        "count = CountVectorizer(stop_words='english')\n",
        "count_matrix = count.fit_transform(tmdb_5000['metadata'])"
      ],
      "execution_count": 0,
      "outputs": []
    },
    {
      "cell_type": "code",
      "metadata": {
        "id": "jF_jE-LO0EIf",
        "colab_type": "code",
        "colab": {}
      },
      "source": [
        "# Compute the Cosine Similarity matrix based on the count_matrix\n",
        "cosine_sim2 = cosine_similarity(count_matrix, count_matrix)"
      ],
      "execution_count": 0,
      "outputs": []
    },
    {
      "cell_type": "code",
      "metadata": {
        "id": "vhWmyPSn4eJ-",
        "colab_type": "code",
        "outputId": "388fe664-235a-4eb2-aae3-8a437a246ffe",
        "colab": {
          "base_uri": "https://localhost:8080/",
          "height": 164
        }
      },
      "source": [
        "tmdb_5000[tmdb_5000['title'] =='Sherlock Holmes']"
      ],
      "execution_count": 0,
      "outputs": [
        {
          "output_type": "execute_result",
          "data": {
            "text/html": [
              "<div>\n",
              "<style scoped>\n",
              "    .dataframe tbody tr th:only-of-type {\n",
              "        vertical-align: middle;\n",
              "    }\n",
              "\n",
              "    .dataframe tbody tr th {\n",
              "        vertical-align: top;\n",
              "    }\n",
              "\n",
              "    .dataframe thead th {\n",
              "        text-align: right;\n",
              "    }\n",
              "</style>\n",
              "<table border=\"1\" class=\"dataframe\">\n",
              "  <thead>\n",
              "    <tr style=\"text-align: right;\">\n",
              "      <th></th>\n",
              "      <th>genres</th>\n",
              "      <th>keywords</th>\n",
              "      <th>overview</th>\n",
              "      <th>popularity</th>\n",
              "      <th>production_companies</th>\n",
              "      <th>production_countries</th>\n",
              "      <th>revenue</th>\n",
              "      <th>runtime</th>\n",
              "      <th>spoken_languages</th>\n",
              "      <th>tagline</th>\n",
              "      <th>title</th>\n",
              "      <th>vote_average</th>\n",
              "      <th>vote_count</th>\n",
              "      <th>movie_id</th>\n",
              "      <th>cast</th>\n",
              "      <th>director</th>\n",
              "      <th>release_year</th>\n",
              "      <th>metadata</th>\n",
              "    </tr>\n",
              "  </thead>\n",
              "  <tbody>\n",
              "    <tr>\n",
              "      <th>356</th>\n",
              "      <td>[action, adventure, crime]</td>\n",
              "      <td>[detective, scotlandyard, coffin, blackmagic, ...</td>\n",
              "      <td>Eccentric consulting detective, Sherlock Holme...</td>\n",
              "      <td>57.834787</td>\n",
              "      <td>[villageroadshowpictures, silverpictures, warn...</td>\n",
              "      <td>[germany, unitedkingdom, unitedstatesofamerica]</td>\n",
              "      <td>524028679</td>\n",
              "      <td>128.0</td>\n",
              "      <td>[english, français]</td>\n",
              "      <td>Nothing escapes him.</td>\n",
              "      <td>Sherlock Holmes</td>\n",
              "      <td>7.0</td>\n",
              "      <td>5766</td>\n",
              "      <td>10528</td>\n",
              "      <td>[robertdowneyjr., judelaw, rachelmcadams]</td>\n",
              "      <td>guyritchie</td>\n",
              "      <td>2009</td>\n",
              "      <td>detective scotlandyard coffin blackmagic arres...</td>\n",
              "    </tr>\n",
              "  </tbody>\n",
              "</table>\n",
              "</div>"
            ],
            "text/plain": [
              "                         genres  ...                                           metadata\n",
              "356  [action, adventure, crime]  ...  detective scotlandyard coffin blackmagic arres...\n",
              "\n",
              "[1 rows x 18 columns]"
            ]
          },
          "metadata": {
            "tags": []
          },
          "execution_count": 33
        }
      ]
    },
    {
      "cell_type": "code",
      "metadata": {
        "id": "W3WBAlSN1OKD",
        "colab_type": "code",
        "outputId": "68a6a89e-a2dd-4973-f6b3-18b98678b9ba",
        "colab": {
          "base_uri": "https://localhost:8080/",
          "height": 212
        }
      },
      "source": [
        "get_recommendations('Sherlock Holmes',cosine_sim2,tmdb_5000)"
      ],
      "execution_count": 0,
      "outputs": [
        {
          "output_type": "execute_result",
          "data": {
            "text/plain": [
              "205     Sherlock Holmes: A Game of Shadows\n",
              "4638              Amidst the Devil's Wings\n",
              "2156                            Nancy Drew\n",
              "2625                   Kiss Kiss Bang Bang\n",
              "2360                               Getaway\n",
              "4068                             Sharkskin\n",
              "4118                Hum To Mohabbat Karega\n",
              "4314                             Crowsnest\n",
              "4458                   Harrison Montgomery\n",
              "4504               Light from the Darkroom\n",
              "Name: title, dtype: object"
            ]
          },
          "metadata": {
            "tags": []
          },
          "execution_count": 34
        }
      ]
    },
    {
      "cell_type": "code",
      "metadata": {
        "id": "jAbKW4784za3",
        "colab_type": "code",
        "colab": {}
      },
      "source": [
        ""
      ],
      "execution_count": 0,
      "outputs": []
    },
    {
      "cell_type": "markdown",
      "metadata": {
        "id": "p3rCnaK1QwdQ",
        "colab_type": "text"
      },
      "source": [
        "# Large movie dataset"
      ]
    },
    {
      "cell_type": "markdown",
      "metadata": {
        "id": "zJ2PuDdyQ1dy",
        "colab_type": "text"
      },
      "source": [
        "## Dataset Preparation"
      ]
    },
    {
      "cell_type": "code",
      "metadata": {
        "id": "VHh-v6vUOqFh",
        "colab_type": "code",
        "colab": {}
      },
      "source": [
        "#customize literal_eval function\n",
        "def literal_return(val):\n",
        "    try:\n",
        "        return literal_eval(val)\n",
        "    except (ValueError, SyntaxError) as e:\n",
        "        return val"
      ],
      "execution_count": 0,
      "outputs": []
    },
    {
      "cell_type": "code",
      "metadata": {
        "id": "NSBOiKc3BziZ",
        "colab_type": "code",
        "outputId": "fd19def6-9e17-4023-8ab1-e2967ff51bbf",
        "colab": {
          "base_uri": "https://localhost:8080/",
          "height": 72
        }
      },
      "source": [
        "movies_metadata = pd.read_csv('/content/drive/My Drive/movies_metadata.csv.zip')\n",
        "keywords = pd.read_csv('/content/drive/My Drive/keywords.csv.zip')\n",
        "credits = pd.read_csv('/content/drive/My Drive/credits.csv.zip')\n",
        "\n",
        "f_clean_movies_meta = ['genres','production_companies','production_countries','spoken_languages']\n",
        "f_clean_credits = ['cast','crew']\n",
        "\n",
        "for f in f_clean_movies_meta:\n",
        "    movies_metadata[f] = movies_metadata[f].apply(literal_return)\n",
        "\n",
        "for f in f_clean_credits:\n",
        "    credits[f] = credits[f].apply(literal_return)\n",
        "\n",
        "keywords['keywords'] = keywords['keywords'].apply(literal_return)"
      ],
      "execution_count": 0,
      "outputs": [
        {
          "output_type": "stream",
          "text": [
            "/usr/local/lib/python3.6/dist-packages/IPython/core/interactiveshell.py:2718: DtypeWarning: Columns (10) have mixed types. Specify dtype option on import or set low_memory=False.\n",
            "  interactivity=interactivity, compiler=compiler, result=result)\n"
          ],
          "name": "stderr"
        }
      ]
    },
    {
      "cell_type": "code",
      "metadata": {
        "id": "Yu9mVr_rHGid",
        "colab_type": "code",
        "colab": {}
      },
      "source": [
        "# top three for certain features\n",
        "features_3 = ['genres','production_companies','production_countries','spoken_languages']\n",
        "for feature in features_3:\n",
        "    movies_metadata[feature] = movies_metadata[feature].apply(get_top_n,args = (3,))\n",
        "movies_metadata['id'] = movies_metadata['id'].apply(literal_return)\n",
        "\n",
        "credits['cast'] = credits['cast'].apply(get_top_n,args = (3,))\n",
        "credits['director'] = credits['crew'].apply(get_director)\n",
        "credits.drop('crew',axis = 1,inplace = True)\n",
        "\n",
        "# top five for certain features\n",
        "keywords['keywords'] = keywords['keywords'].apply(get_top_n,args = (5,))"
      ],
      "execution_count": 0,
      "outputs": []
    },
    {
      "cell_type": "code",
      "metadata": {
        "id": "Y_glNi27FoZx",
        "colab_type": "code",
        "colab": {}
      },
      "source": [
        "#merge dataframes\n",
        "movie = pd.merge(movies_metadata,credits, on='id',suffixes= ('','_y'))\n",
        "movie = pd.merge(movie, keywords, on ='id',suffixes= ('','_y'))\n",
        "\n",
        "#drop features we don't need \n",
        "to_drop = ['belongs_to_collection','budget','homepage','original_language','original_title','poster_path','status']\n",
        "movie.drop(to_drop,axis=1, inplace=True)"
      ],
      "execution_count": 0,
      "outputs": []
    },
    {
      "cell_type": "code",
      "metadata": {
        "id": "T3_pfrnq8X58",
        "colab_type": "code",
        "colab": {}
      },
      "source": [
        "# Apply clean_data function to features.\n",
        "features = ['cast', 'genres','production_companies','production_countries','spoken_languages','director']\n",
        "\n",
        "for feature in features:\n",
        "    movie[feature] =movie[feature].apply(clean_data)"
      ],
      "execution_count": 0,
      "outputs": []
    },
    {
      "cell_type": "code",
      "metadata": {
        "id": "x3j-KiBYvl8x",
        "colab_type": "code",
        "colab": {}
      },
      "source": [
        "# keep only release year for each movie\n",
        "movie['release_date'] = pd.to_datetime(movie['release_date'])\n",
        "movie['release_year'] = movie['release_date'].dt.year\n",
        "movie['release_year'] = movie['release_year'].astype('Int64')\n",
        "movie.drop('release_date',axis = 1, inplace = True)"
      ],
      "execution_count": 0,
      "outputs": []
    },
    {
      "cell_type": "code",
      "metadata": {
        "id": "bNChqFbswLZR",
        "colab_type": "code",
        "outputId": "bb2df6c2-bf49-405b-f7fa-794c0c38982e",
        "colab": {
          "base_uri": "https://localhost:8080/",
          "height": 636
        }
      },
      "source": [
        "movie.head()"
      ],
      "execution_count": 0,
      "outputs": [
        {
          "output_type": "execute_result",
          "data": {
            "text/html": [
              "<div>\n",
              "<style scoped>\n",
              "    .dataframe tbody tr th:only-of-type {\n",
              "        vertical-align: middle;\n",
              "    }\n",
              "\n",
              "    .dataframe tbody tr th {\n",
              "        vertical-align: top;\n",
              "    }\n",
              "\n",
              "    .dataframe thead th {\n",
              "        text-align: right;\n",
              "    }\n",
              "</style>\n",
              "<table border=\"1\" class=\"dataframe\">\n",
              "  <thead>\n",
              "    <tr style=\"text-align: right;\">\n",
              "      <th></th>\n",
              "      <th>adult</th>\n",
              "      <th>genres</th>\n",
              "      <th>id</th>\n",
              "      <th>imdb_id</th>\n",
              "      <th>overview</th>\n",
              "      <th>popularity</th>\n",
              "      <th>production_companies</th>\n",
              "      <th>production_countries</th>\n",
              "      <th>revenue</th>\n",
              "      <th>runtime</th>\n",
              "      <th>spoken_languages</th>\n",
              "      <th>tagline</th>\n",
              "      <th>title</th>\n",
              "      <th>video</th>\n",
              "      <th>vote_average</th>\n",
              "      <th>vote_count</th>\n",
              "      <th>cast</th>\n",
              "      <th>director</th>\n",
              "      <th>keywords</th>\n",
              "      <th>release_year</th>\n",
              "    </tr>\n",
              "  </thead>\n",
              "  <tbody>\n",
              "    <tr>\n",
              "      <th>0</th>\n",
              "      <td>False</td>\n",
              "      <td>[animation, comedy, family]</td>\n",
              "      <td>862</td>\n",
              "      <td>tt0114709</td>\n",
              "      <td>Led by Woody, Andy's toys live happily in his ...</td>\n",
              "      <td>21.9469</td>\n",
              "      <td>[pixaranimationstudios]</td>\n",
              "      <td>[unitedstatesofamerica]</td>\n",
              "      <td>373554033.0</td>\n",
              "      <td>81.0</td>\n",
              "      <td>[english]</td>\n",
              "      <td>NaN</td>\n",
              "      <td>Toy Story</td>\n",
              "      <td>False</td>\n",
              "      <td>7.7</td>\n",
              "      <td>5415.0</td>\n",
              "      <td>[tomhanks, timallen, donrickles]</td>\n",
              "      <td>johnlasseter</td>\n",
              "      <td>[jealousy, toy, boy, friendship, friends]</td>\n",
              "      <td>1995</td>\n",
              "    </tr>\n",
              "    <tr>\n",
              "      <th>1</th>\n",
              "      <td>False</td>\n",
              "      <td>[adventure, fantasy, family]</td>\n",
              "      <td>8844</td>\n",
              "      <td>tt0113497</td>\n",
              "      <td>When siblings Judy and Peter discover an encha...</td>\n",
              "      <td>17.0155</td>\n",
              "      <td>[tristarpictures, teitlerfilm, interscopecommu...</td>\n",
              "      <td>[unitedstatesofamerica]</td>\n",
              "      <td>262797249.0</td>\n",
              "      <td>104.0</td>\n",
              "      <td>[english, français]</td>\n",
              "      <td>Roll the dice and unleash the excitement!</td>\n",
              "      <td>Jumanji</td>\n",
              "      <td>False</td>\n",
              "      <td>6.9</td>\n",
              "      <td>2413.0</td>\n",
              "      <td>[robinwilliams, jonathanhyde, kirstendunst]</td>\n",
              "      <td>joejohnston</td>\n",
              "      <td>[board game, disappearance, based on children'...</td>\n",
              "      <td>1995</td>\n",
              "    </tr>\n",
              "    <tr>\n",
              "      <th>2</th>\n",
              "      <td>False</td>\n",
              "      <td>[romance, comedy]</td>\n",
              "      <td>15602</td>\n",
              "      <td>tt0113228</td>\n",
              "      <td>A family wedding reignites the ancient feud be...</td>\n",
              "      <td>11.7129</td>\n",
              "      <td>[warnerbros., lancastergate]</td>\n",
              "      <td>[unitedstatesofamerica]</td>\n",
              "      <td>0.0</td>\n",
              "      <td>101.0</td>\n",
              "      <td>[english]</td>\n",
              "      <td>Still Yelling. Still Fighting. Still Ready for...</td>\n",
              "      <td>Grumpier Old Men</td>\n",
              "      <td>False</td>\n",
              "      <td>6.5</td>\n",
              "      <td>92.0</td>\n",
              "      <td>[waltermatthau, jacklemmon, ann-margret]</td>\n",
              "      <td>howarddeutch</td>\n",
              "      <td>[fishing, best friend, duringcreditsstinger, o...</td>\n",
              "      <td>1995</td>\n",
              "    </tr>\n",
              "    <tr>\n",
              "      <th>3</th>\n",
              "      <td>False</td>\n",
              "      <td>[comedy, drama, romance]</td>\n",
              "      <td>31357</td>\n",
              "      <td>tt0114885</td>\n",
              "      <td>Cheated on, mistreated and stepped on, the wom...</td>\n",
              "      <td>3.85949</td>\n",
              "      <td>[twentiethcenturyfoxfilmcorporation]</td>\n",
              "      <td>[unitedstatesofamerica]</td>\n",
              "      <td>81452156.0</td>\n",
              "      <td>127.0</td>\n",
              "      <td>[english]</td>\n",
              "      <td>Friends are the people who let you be yourself...</td>\n",
              "      <td>Waiting to Exhale</td>\n",
              "      <td>False</td>\n",
              "      <td>6.1</td>\n",
              "      <td>34.0</td>\n",
              "      <td>[whitneyhouston, angelabassett, lorettadevine]</td>\n",
              "      <td>forestwhitaker</td>\n",
              "      <td>[based on novel, interracial relationship, sin...</td>\n",
              "      <td>1995</td>\n",
              "    </tr>\n",
              "    <tr>\n",
              "      <th>4</th>\n",
              "      <td>False</td>\n",
              "      <td>[comedy]</td>\n",
              "      <td>11862</td>\n",
              "      <td>tt0113041</td>\n",
              "      <td>Just when George Banks has recovered from his ...</td>\n",
              "      <td>8.38752</td>\n",
              "      <td>[sandollarproductions, touchstonepictures]</td>\n",
              "      <td>[unitedstatesofamerica]</td>\n",
              "      <td>76578911.0</td>\n",
              "      <td>106.0</td>\n",
              "      <td>[english]</td>\n",
              "      <td>Just When His World Is Back To Normal... He's ...</td>\n",
              "      <td>Father of the Bride Part II</td>\n",
              "      <td>False</td>\n",
              "      <td>5.7</td>\n",
              "      <td>173.0</td>\n",
              "      <td>[stevemartin, dianekeaton, martinshort]</td>\n",
              "      <td>charlesshyer</td>\n",
              "      <td>[baby, midlife crisis, confidence, aging, daug...</td>\n",
              "      <td>1995</td>\n",
              "    </tr>\n",
              "  </tbody>\n",
              "</table>\n",
              "</div>"
            ],
            "text/plain": [
              "   adult  ... release_year\n",
              "0  False  ...         1995\n",
              "1  False  ...         1995\n",
              "2  False  ...         1995\n",
              "3  False  ...         1995\n",
              "4  False  ...         1995\n",
              "\n",
              "[5 rows x 20 columns]"
            ]
          },
          "metadata": {
            "tags": []
          },
          "execution_count": 11
        }
      ]
    },
    {
      "cell_type": "code",
      "metadata": {
        "id": "Eq947ZTLwMKs",
        "colab_type": "code",
        "colab": {}
      },
      "source": [
        "movie['metadata'] = movie.apply(metadata, axis=1)"
      ],
      "execution_count": 0,
      "outputs": []
    },
    {
      "cell_type": "code",
      "metadata": {
        "id": "i80GVfkixvT9",
        "colab_type": "code",
        "outputId": "b4c5665f-757f-4137-8ff7-c805eed566cf",
        "colab": {
          "base_uri": "https://localhost:8080/",
          "height": 164
        }
      },
      "source": [
        "movie.to_csv('/content/drive/My Drive/movie_dataset.csv.gz',index=False,compression='gzip')"
      ],
      "execution_count": 0,
      "outputs": [
        {
          "output_type": "error",
          "ename": "NameError",
          "evalue": "ignored",
          "traceback": [
            "\u001b[0;31m---------------------------------------------------------------------------\u001b[0m",
            "\u001b[0;31mNameError\u001b[0m                                 Traceback (most recent call last)",
            "\u001b[0;32m<ipython-input-5-16a9be3a39e9>\u001b[0m in \u001b[0;36m<module>\u001b[0;34m()\u001b[0m\n\u001b[0;32m----> 1\u001b[0;31m \u001b[0mmovie\u001b[0m\u001b[0;34m.\u001b[0m\u001b[0mto_csv\u001b[0m\u001b[0;34m(\u001b[0m\u001b[0;34m'/content/drive/My Drive/movie_dataset.csv.gz'\u001b[0m\u001b[0;34m,\u001b[0m\u001b[0mindex\u001b[0m\u001b[0;34m=\u001b[0m\u001b[0;32mFalse\u001b[0m\u001b[0;34m,\u001b[0m\u001b[0mcompression\u001b[0m\u001b[0;34m=\u001b[0m\u001b[0;34m'gzip'\u001b[0m\u001b[0;34m)\u001b[0m\u001b[0;34m\u001b[0m\u001b[0;34m\u001b[0m\u001b[0m\n\u001b[0m",
            "\u001b[0;31mNameError\u001b[0m: name 'movie' is not defined"
          ]
        }
      ]
    },
    {
      "cell_type": "markdown",
      "metadata": {
        "id": "fKbKHi6zyTVZ",
        "colab_type": "text"
      },
      "source": [
        "## Content-based Recommendation"
      ]
    },
    {
      "cell_type": "markdown",
      "metadata": {
        "id": "6YnkX0dPOAiY",
        "colab_type": "text"
      },
      "source": [
        "### Cosine similarity"
      ]
    },
    {
      "cell_type": "code",
      "metadata": {
        "id": "Pr2qqrQsPm1M",
        "colab_type": "code",
        "colab": {}
      },
      "source": [
        "def metadata(x):\n",
        "    return ' '.join(x['keywords']) + ' ' + ' '.join(x['cast']) + ' ' + x['director'] + ' ' + ' '.join(x['genres']) +' '+ ' '.join('production_companies') +' '+ ' '.join('production_countries')+' '+' '.join('spoken_languages') "
      ],
      "execution_count": 0,
      "outputs": []
    },
    {
      "cell_type": "code",
      "metadata": {
        "id": "YKGOOsclwdeK",
        "colab_type": "code",
        "colab": {}
      },
      "source": [
        "# Function that takes in movie title as input and outputs most similar movies\n",
        "def get_recommendations(title,df):\n",
        "    # Get the index of the movie that matches the title\n",
        "    #Construct a reverse map of indices and movie titles\n",
        "    indices = pd.Series(df.index, index=df['title']).drop_duplicates()\n",
        "    idx = indices[title]\n",
        "    \n",
        "    idx_mod = idx % 10000\n",
        "    idx_div = idx // 10000\n",
        "    \n",
        "    #create the count matrix\n",
        "    count = CountVectorizer(stop_words='english')\n",
        "    count_matrix = count.fit_transform(df['metadata'])\n",
        "    cosine_sim = cosine_similarity(count_matrix[idx_div*10000:idx_div*10000+10000],count_matrix)\n",
        "    # Get the pairwsie similarity scores of all movies with that movie\n",
        "    sim_scores = list(enumerate(cosine_sim[idx_mod]))\n",
        "    # Sort the movies based on the similarity scores\n",
        "    sim_scores = sorted(sim_scores, key=lambda x: x[1], reverse=True)\n",
        "\n",
        "    # Get the scores of the 10 most similar movies\n",
        "    sim_scores = sim_scores[1:11]\n",
        "\n",
        "    # Get the movie indices\n",
        "    movie_indices = [i[0] for i in sim_scores]\n",
        "\n",
        "    # Return the top 10 most similar movies\n",
        "    return df['title'].iloc[movie_indices]"
      ],
      "execution_count": 0,
      "outputs": []
    },
    {
      "cell_type": "code",
      "metadata": {
        "id": "X9aa05sdOTV0",
        "colab_type": "code",
        "colab": {}
      },
      "source": [
        "movie = pd.read_csv('/content/drive/My Drive/movie_dataset.csv.gz')"
      ],
      "execution_count": 0,
      "outputs": []
    },
    {
      "cell_type": "code",
      "metadata": {
        "id": "DBeJ4pTLV5aN",
        "colab_type": "code",
        "outputId": "e9537e5e-f749-4d3b-dfac-0cf47f01bde1",
        "colab": {
          "base_uri": "https://localhost:8080/",
          "height": 35
        }
      },
      "source": [
        "movie.shape"
      ],
      "execution_count": 0,
      "outputs": [
        {
          "output_type": "execute_result",
          "data": {
            "text/plain": [
              "(46628, 21)"
            ]
          },
          "metadata": {
            "tags": []
          },
          "execution_count": 19
        }
      ]
    },
    {
      "cell_type": "code",
      "metadata": {
        "id": "sW44wjbWV0ht",
        "colab_type": "code",
        "outputId": "b0cf81ad-b1e6-4b27-fb70-4b6838d557c5",
        "colab": {
          "base_uri": "https://localhost:8080/",
          "height": 472
        }
      },
      "source": [
        "movie[movie['title'] == 'Sense and Sensibility']"
      ],
      "execution_count": 0,
      "outputs": [
        {
          "output_type": "execute_result",
          "data": {
            "text/html": [
              "<div>\n",
              "<style scoped>\n",
              "    .dataframe tbody tr th:only-of-type {\n",
              "        vertical-align: middle;\n",
              "    }\n",
              "\n",
              "    .dataframe tbody tr th {\n",
              "        vertical-align: top;\n",
              "    }\n",
              "\n",
              "    .dataframe thead th {\n",
              "        text-align: right;\n",
              "    }\n",
              "</style>\n",
              "<table border=\"1\" class=\"dataframe\">\n",
              "  <thead>\n",
              "    <tr style=\"text-align: right;\">\n",
              "      <th></th>\n",
              "      <th>adult</th>\n",
              "      <th>genres</th>\n",
              "      <th>id</th>\n",
              "      <th>imdb_id</th>\n",
              "      <th>overview</th>\n",
              "      <th>popularity</th>\n",
              "      <th>production_companies</th>\n",
              "      <th>production_countries</th>\n",
              "      <th>revenue</th>\n",
              "      <th>runtime</th>\n",
              "      <th>spoken_languages</th>\n",
              "      <th>tagline</th>\n",
              "      <th>title</th>\n",
              "      <th>video</th>\n",
              "      <th>vote_average</th>\n",
              "      <th>vote_count</th>\n",
              "      <th>cast</th>\n",
              "      <th>director</th>\n",
              "      <th>keywords</th>\n",
              "      <th>release_year</th>\n",
              "      <th>metadata</th>\n",
              "    </tr>\n",
              "  </thead>\n",
              "  <tbody>\n",
              "    <tr>\n",
              "      <th>16</th>\n",
              "      <td>False</td>\n",
              "      <td>['drama', 'romance']</td>\n",
              "      <td>4584</td>\n",
              "      <td>tt0114388</td>\n",
              "      <td>Rich Mr. Dashwood dies, leaving his second wif...</td>\n",
              "      <td>10.673167</td>\n",
              "      <td>['columbiapicturescorporation', 'mirageenterpr...</td>\n",
              "      <td>['unitedkingdom', 'unitedstatesofamerica']</td>\n",
              "      <td>135000000.0</td>\n",
              "      <td>136.0</td>\n",
              "      <td>['english']</td>\n",
              "      <td>Lose your heart and come to your senses.</td>\n",
              "      <td>Sense and Sensibility</td>\n",
              "      <td>False</td>\n",
              "      <td>7.2</td>\n",
              "      <td>364.0</td>\n",
              "      <td>['katewinslet', 'emmathompson', 'hughgrant']</td>\n",
              "      <td>anglee</td>\n",
              "      <td>['bowling', 'based on novel', 'servant', 'coun...</td>\n",
              "      <td>1995.0</td>\n",
              "      <td>bowling based on novel servant country life ja...</td>\n",
              "    </tr>\n",
              "    <tr>\n",
              "      <th>28580</th>\n",
              "      <td>False</td>\n",
              "      <td>['drama']</td>\n",
              "      <td>315010</td>\n",
              "      <td>tt0847150</td>\n",
              "      <td>This is the acclaimed 2008 BBC adaptation of t...</td>\n",
              "      <td>1.724436</td>\n",
              "      <td>['bbcworldwide', 'wgbhboston']</td>\n",
              "      <td>['unitedkingdom']</td>\n",
              "      <td>0.0</td>\n",
              "      <td>174.0</td>\n",
              "      <td>['english']</td>\n",
              "      <td>NaN</td>\n",
              "      <td>Sense and Sensibility</td>\n",
              "      <td>False</td>\n",
              "      <td>7.9</td>\n",
              "      <td>19.0</td>\n",
              "      <td>['hattiemorahan', 'charitywakefield', 'davidmo...</td>\n",
              "      <td>johnalexander</td>\n",
              "      <td>[]</td>\n",
              "      <td>2008.0</td>\n",
              "      <td>hattiemorahan charitywakefield davidmorrissey...</td>\n",
              "    </tr>\n",
              "    <tr>\n",
              "      <th>41989</th>\n",
              "      <td>False</td>\n",
              "      <td>['romance', 'drama']</td>\n",
              "      <td>391934</td>\n",
              "      <td>tt0089991</td>\n",
              "      <td>Two sisters of opposing temperaments find love...</td>\n",
              "      <td>0.416171</td>\n",
              "      <td>['britishbroadcastingcorporation(bbc)']</td>\n",
              "      <td>['unitedkingdom']</td>\n",
              "      <td>0.0</td>\n",
              "      <td>174.0</td>\n",
              "      <td>['english']</td>\n",
              "      <td>NaN</td>\n",
              "      <td>Sense and Sensibility</td>\n",
              "      <td>False</td>\n",
              "      <td>0.0</td>\n",
              "      <td>0.0</td>\n",
              "      <td>['irenerichards', 'traceychilds', 'annieleon']</td>\n",
              "      <td>rodneybennett</td>\n",
              "      <td>['england', 'jane austen', 'love', 'heartbreak']</td>\n",
              "      <td>1981.0</td>\n",
              "      <td>england jane austen love heartbreak irenericha...</td>\n",
              "    </tr>\n",
              "    <tr>\n",
              "      <th>42208</th>\n",
              "      <td>False</td>\n",
              "      <td>[]</td>\n",
              "      <td>243987</td>\n",
              "      <td>tt0254768</td>\n",
              "      <td>Adaptation of the Jane Austen novel.</td>\n",
              "      <td>0.010759</td>\n",
              "      <td>[]</td>\n",
              "      <td>[]</td>\n",
              "      <td>0.0</td>\n",
              "      <td>178.0</td>\n",
              "      <td>[]</td>\n",
              "      <td>NaN</td>\n",
              "      <td>Sense and Sensibility</td>\n",
              "      <td>False</td>\n",
              "      <td>0.0</td>\n",
              "      <td>0.0</td>\n",
              "      <td>['joannadavid', 'ciaranmadden']</td>\n",
              "      <td>davidgiles</td>\n",
              "      <td>[]</td>\n",
              "      <td>1971.0</td>\n",
              "      <td>joannadavid ciaranmadden davidgiles  p r o d ...</td>\n",
              "    </tr>\n",
              "  </tbody>\n",
              "</table>\n",
              "</div>"
            ],
            "text/plain": [
              "       adult  ...                                           metadata\n",
              "16     False  ...  bowling based on novel servant country life ja...\n",
              "28580  False  ...   hattiemorahan charitywakefield davidmorrissey...\n",
              "41989  False  ...  england jane austen love heartbreak irenericha...\n",
              "42208  False  ...   joannadavid ciaranmadden davidgiles  p r o d ...\n",
              "\n",
              "[4 rows x 21 columns]"
            ]
          },
          "metadata": {
            "tags": []
          },
          "execution_count": 25
        }
      ]
    },
    {
      "cell_type": "code",
      "metadata": {
        "id": "1UeeTguXwoq4",
        "colab_type": "code",
        "outputId": "b7c6c7e5-3c25-4b68-9885-901d389a3b5d",
        "colab": {
          "base_uri": "https://localhost:8080/",
          "height": 212
        }
      },
      "source": [
        "get_recommendations('Avatar',movie)"
      ],
      "execution_count": 0,
      "outputs": [
        {
          "output_type": "execute_result",
          "data": {
            "text/plain": [
              "26774                                             Avatar 2\n",
              "4723                                             SpaceCamp\n",
              "23948                              Guardians of the Galaxy\n",
              "42655                         Rogue One: A Star Wars Story\n",
              "7520                             Babylon 5: A Call to Arms\n",
              "45385                                       Crash of Moons\n",
              "8725                    Journey to the Far Side of the Sun\n",
              "23939    Gunbuster vs Diebuster Aim for the Top! The GA...\n",
              "26694                                             Stranded\n",
              "13348                   War of the Worlds 2: The Next Wave\n",
              "Name: title, dtype: object"
            ]
          },
          "metadata": {
            "tags": []
          },
          "execution_count": 26
        }
      ]
    },
    {
      "cell_type": "code",
      "metadata": {
        "id": "7JTBRWNnFxIw",
        "colab_type": "code",
        "colab": {}
      },
      "source": [
        ""
      ],
      "execution_count": 0,
      "outputs": []
    },
    {
      "cell_type": "markdown",
      "metadata": {
        "id": "sRxJCHLXjqHz",
        "colab_type": "text"
      },
      "source": [
        "## User-Item Collabarative Filtering"
      ]
    },
    {
      "cell_type": "code",
      "metadata": {
        "id": "9ZiS-hPYjt6y",
        "colab_type": "code",
        "colab": {}
      },
      "source": [
        "#genome_tags = pd.read_csv('/content/drive/My Drive/genome-tags.csv')\n",
        "#genome_scores = pd.read_csv('/content/drive/My Drive/genome-scores.csv')\n",
        "#links = pd.read_csv('/content/drive/My Drive/links.csv')\n",
        "#movies = pd.read_csv('/content/drive/My Drive/movies.csv')\n",
        "ratings = pd.read_csv('/content/drive/My Drive/ratings.csv')\n",
        "#tags = pd.read_csv('/content/drive/My Drive/tags.csv')"
      ],
      "execution_count": 0,
      "outputs": []
    },
    {
      "cell_type": "code",
      "metadata": {
        "id": "o5HWnDpcO_bx",
        "colab_type": "code",
        "outputId": "45202b0e-924c-47df-e1a4-d426f2dab546",
        "colab": {
          "base_uri": "https://localhost:8080/",
          "height": 194
        }
      },
      "source": [
        "ratings.head()"
      ],
      "execution_count": 0,
      "outputs": [
        {
          "output_type": "execute_result",
          "data": {
            "text/html": [
              "<div>\n",
              "<style scoped>\n",
              "    .dataframe tbody tr th:only-of-type {\n",
              "        vertical-align: middle;\n",
              "    }\n",
              "\n",
              "    .dataframe tbody tr th {\n",
              "        vertical-align: top;\n",
              "    }\n",
              "\n",
              "    .dataframe thead th {\n",
              "        text-align: right;\n",
              "    }\n",
              "</style>\n",
              "<table border=\"1\" class=\"dataframe\">\n",
              "  <thead>\n",
              "    <tr style=\"text-align: right;\">\n",
              "      <th></th>\n",
              "      <th>userId</th>\n",
              "      <th>movieId</th>\n",
              "      <th>rating</th>\n",
              "      <th>timestamp</th>\n",
              "    </tr>\n",
              "  </thead>\n",
              "  <tbody>\n",
              "    <tr>\n",
              "      <th>0</th>\n",
              "      <td>1</td>\n",
              "      <td>307</td>\n",
              "      <td>3.5</td>\n",
              "      <td>1256677221</td>\n",
              "    </tr>\n",
              "    <tr>\n",
              "      <th>1</th>\n",
              "      <td>1</td>\n",
              "      <td>481</td>\n",
              "      <td>3.5</td>\n",
              "      <td>1256677456</td>\n",
              "    </tr>\n",
              "    <tr>\n",
              "      <th>2</th>\n",
              "      <td>1</td>\n",
              "      <td>1091</td>\n",
              "      <td>1.5</td>\n",
              "      <td>1256677471</td>\n",
              "    </tr>\n",
              "    <tr>\n",
              "      <th>3</th>\n",
              "      <td>1</td>\n",
              "      <td>1257</td>\n",
              "      <td>4.5</td>\n",
              "      <td>1256677460</td>\n",
              "    </tr>\n",
              "    <tr>\n",
              "      <th>4</th>\n",
              "      <td>1</td>\n",
              "      <td>1449</td>\n",
              "      <td>4.5</td>\n",
              "      <td>1256677264</td>\n",
              "    </tr>\n",
              "  </tbody>\n",
              "</table>\n",
              "</div>"
            ],
            "text/plain": [
              "   userId  movieId  rating   timestamp\n",
              "0       1      307     3.5  1256677221\n",
              "1       1      481     3.5  1256677456\n",
              "2       1     1091     1.5  1256677471\n",
              "3       1     1257     4.5  1256677460\n",
              "4       1     1449     4.5  1256677264"
            ]
          },
          "metadata": {
            "tags": []
          },
          "execution_count": 16
        }
      ]
    },
    {
      "cell_type": "code",
      "metadata": {
        "id": "dh0jJ2F6ucof",
        "colab_type": "code",
        "outputId": "23e9e551-4439-4fc0-ee9a-8067ef116beb",
        "colab": {
          "base_uri": "https://localhost:8080/",
          "height": 194
        }
      },
      "source": [
        "user_index = pd.unique(ratings['userId'])\n",
        "user_index = pd.DataFrame(user_index, columns=['userId'])\n",
        "user_index['user_index'] = user_index.index\n",
        "user_index.head()"
      ],
      "execution_count": 0,
      "outputs": [
        {
          "output_type": "execute_result",
          "data": {
            "text/html": [
              "<div>\n",
              "<style scoped>\n",
              "    .dataframe tbody tr th:only-of-type {\n",
              "        vertical-align: middle;\n",
              "    }\n",
              "\n",
              "    .dataframe tbody tr th {\n",
              "        vertical-align: top;\n",
              "    }\n",
              "\n",
              "    .dataframe thead th {\n",
              "        text-align: right;\n",
              "    }\n",
              "</style>\n",
              "<table border=\"1\" class=\"dataframe\">\n",
              "  <thead>\n",
              "    <tr style=\"text-align: right;\">\n",
              "      <th></th>\n",
              "      <th>userId</th>\n",
              "      <th>user_index</th>\n",
              "    </tr>\n",
              "  </thead>\n",
              "  <tbody>\n",
              "    <tr>\n",
              "      <th>0</th>\n",
              "      <td>1</td>\n",
              "      <td>0</td>\n",
              "    </tr>\n",
              "    <tr>\n",
              "      <th>1</th>\n",
              "      <td>2</td>\n",
              "      <td>1</td>\n",
              "    </tr>\n",
              "    <tr>\n",
              "      <th>2</th>\n",
              "      <td>3</td>\n",
              "      <td>2</td>\n",
              "    </tr>\n",
              "    <tr>\n",
              "      <th>3</th>\n",
              "      <td>4</td>\n",
              "      <td>3</td>\n",
              "    </tr>\n",
              "    <tr>\n",
              "      <th>4</th>\n",
              "      <td>5</td>\n",
              "      <td>4</td>\n",
              "    </tr>\n",
              "  </tbody>\n",
              "</table>\n",
              "</div>"
            ],
            "text/plain": [
              "   userId  user_index\n",
              "0       1           0\n",
              "1       2           1\n",
              "2       3           2\n",
              "3       4           3\n",
              "4       5           4"
            ]
          },
          "metadata": {
            "tags": []
          },
          "execution_count": 58
        }
      ]
    },
    {
      "cell_type": "code",
      "metadata": {
        "id": "Q5bw0m0SPm3b",
        "colab_type": "code",
        "outputId": "583740a9-41a0-4649-b354-afa3e75a0921",
        "colab": {
          "base_uri": "https://localhost:8080/",
          "height": 194
        }
      },
      "source": [
        "movie_index = pd.unique(ratings['movieId'])\n",
        "movie_index = pd.DataFrame(movie_index,columns = ['movieId'])\n",
        "movie_index['movie_index'] = movie_index.index\n",
        "movie_index.head()"
      ],
      "execution_count": 0,
      "outputs": [
        {
          "output_type": "execute_result",
          "data": {
            "text/html": [
              "<div>\n",
              "<style scoped>\n",
              "    .dataframe tbody tr th:only-of-type {\n",
              "        vertical-align: middle;\n",
              "    }\n",
              "\n",
              "    .dataframe tbody tr th {\n",
              "        vertical-align: top;\n",
              "    }\n",
              "\n",
              "    .dataframe thead th {\n",
              "        text-align: right;\n",
              "    }\n",
              "</style>\n",
              "<table border=\"1\" class=\"dataframe\">\n",
              "  <thead>\n",
              "    <tr style=\"text-align: right;\">\n",
              "      <th></th>\n",
              "      <th>movieId</th>\n",
              "      <th>movie_index</th>\n",
              "    </tr>\n",
              "  </thead>\n",
              "  <tbody>\n",
              "    <tr>\n",
              "      <th>0</th>\n",
              "      <td>307</td>\n",
              "      <td>0</td>\n",
              "    </tr>\n",
              "    <tr>\n",
              "      <th>1</th>\n",
              "      <td>481</td>\n",
              "      <td>1</td>\n",
              "    </tr>\n",
              "    <tr>\n",
              "      <th>2</th>\n",
              "      <td>1091</td>\n",
              "      <td>2</td>\n",
              "    </tr>\n",
              "    <tr>\n",
              "      <th>3</th>\n",
              "      <td>1257</td>\n",
              "      <td>3</td>\n",
              "    </tr>\n",
              "    <tr>\n",
              "      <th>4</th>\n",
              "      <td>1449</td>\n",
              "      <td>4</td>\n",
              "    </tr>\n",
              "  </tbody>\n",
              "</table>\n",
              "</div>"
            ],
            "text/plain": [
              "   movieId  movie_index\n",
              "0      307            0\n",
              "1      481            1\n",
              "2     1091            2\n",
              "3     1257            3\n",
              "4     1449            4"
            ]
          },
          "metadata": {
            "tags": []
          },
          "execution_count": 59
        }
      ]
    },
    {
      "cell_type": "code",
      "metadata": {
        "id": "diFf6oTLUoJn",
        "colab_type": "code",
        "outputId": "52eed34d-fcc9-4cd9-f2e7-fe2d81839800",
        "colab": {
          "base_uri": "https://localhost:8080/",
          "height": 194
        }
      },
      "source": [
        "data = ratings.merge(user_index, on='userId')\n",
        "data = data.merge(movie_index, on='movieId')\n",
        "\n",
        "Mean = ratings.groupby(by=\"userId\",as_index=False)['rating'].mean()\n",
        "data = pd.merge(data,Mean,on='userId')\n",
        "data['adg_rating']=data['rating_x']-data['rating_y']\n",
        "data.head()"
      ],
      "execution_count": 0,
      "outputs": [
        {
          "output_type": "execute_result",
          "data": {
            "text/html": [
              "<div>\n",
              "<style scoped>\n",
              "    .dataframe tbody tr th:only-of-type {\n",
              "        vertical-align: middle;\n",
              "    }\n",
              "\n",
              "    .dataframe tbody tr th {\n",
              "        vertical-align: top;\n",
              "    }\n",
              "\n",
              "    .dataframe thead th {\n",
              "        text-align: right;\n",
              "    }\n",
              "</style>\n",
              "<table border=\"1\" class=\"dataframe\">\n",
              "  <thead>\n",
              "    <tr style=\"text-align: right;\">\n",
              "      <th></th>\n",
              "      <th>userId</th>\n",
              "      <th>movieId</th>\n",
              "      <th>rating_x</th>\n",
              "      <th>timestamp</th>\n",
              "      <th>user_index</th>\n",
              "      <th>movie_index</th>\n",
              "      <th>rating_y</th>\n",
              "      <th>adg_rating</th>\n",
              "    </tr>\n",
              "  </thead>\n",
              "  <tbody>\n",
              "    <tr>\n",
              "      <th>0</th>\n",
              "      <td>1</td>\n",
              "      <td>307</td>\n",
              "      <td>3.5</td>\n",
              "      <td>1256677221</td>\n",
              "      <td>0</td>\n",
              "      <td>0</td>\n",
              "      <td>3.3125</td>\n",
              "      <td>0.1875</td>\n",
              "    </tr>\n",
              "    <tr>\n",
              "      <th>1</th>\n",
              "      <td>1</td>\n",
              "      <td>481</td>\n",
              "      <td>3.5</td>\n",
              "      <td>1256677456</td>\n",
              "      <td>0</td>\n",
              "      <td>1</td>\n",
              "      <td>3.3125</td>\n",
              "      <td>0.1875</td>\n",
              "    </tr>\n",
              "    <tr>\n",
              "      <th>2</th>\n",
              "      <td>1</td>\n",
              "      <td>1091</td>\n",
              "      <td>1.5</td>\n",
              "      <td>1256677471</td>\n",
              "      <td>0</td>\n",
              "      <td>2</td>\n",
              "      <td>3.3125</td>\n",
              "      <td>-1.8125</td>\n",
              "    </tr>\n",
              "    <tr>\n",
              "      <th>3</th>\n",
              "      <td>1</td>\n",
              "      <td>1257</td>\n",
              "      <td>4.5</td>\n",
              "      <td>1256677460</td>\n",
              "      <td>0</td>\n",
              "      <td>3</td>\n",
              "      <td>3.3125</td>\n",
              "      <td>1.1875</td>\n",
              "    </tr>\n",
              "    <tr>\n",
              "      <th>4</th>\n",
              "      <td>1</td>\n",
              "      <td>1449</td>\n",
              "      <td>4.5</td>\n",
              "      <td>1256677264</td>\n",
              "      <td>0</td>\n",
              "      <td>4</td>\n",
              "      <td>3.3125</td>\n",
              "      <td>1.1875</td>\n",
              "    </tr>\n",
              "  </tbody>\n",
              "</table>\n",
              "</div>"
            ],
            "text/plain": [
              "   userId  movieId  rating_x  ...  movie_index  rating_y  adg_rating\n",
              "0       1      307       3.5  ...            0    3.3125      0.1875\n",
              "1       1      481       3.5  ...            1    3.3125      0.1875\n",
              "2       1     1091       1.5  ...            2    3.3125     -1.8125\n",
              "3       1     1257       4.5  ...            3    3.3125      1.1875\n",
              "4       1     1449       4.5  ...            4    3.3125      1.1875\n",
              "\n",
              "[5 rows x 8 columns]"
            ]
          },
          "metadata": {
            "tags": []
          },
          "execution_count": 60
        }
      ]
    },
    {
      "cell_type": "code",
      "metadata": {
        "id": "2uZC9Vm7kDMn",
        "colab_type": "code",
        "colab": {}
      },
      "source": [
        "utility_csr = csr_matrix((data.adg_rating, (data.user_index.values, data.movie_index.values)))"
      ],
      "execution_count": 0,
      "outputs": []
    },
    {
      "cell_type": "code",
      "metadata": {
        "id": "EKcXSmvy0JwR",
        "colab_type": "code",
        "colab": {}
      },
      "source": [
        "def get_jaccard(A,B):\n",
        "  if A.shape[1] != B.shape[1]:\n",
        "    return print(\"error, check dimension\")\n",
        "  else:\n",
        "    upper = sum(np.minimum(A, B))\n",
        "    lower = sum(np.maximum(A, B))\n",
        "    return upper/lower"
      ],
      "execution_count": 0,
      "outputs": []
    },
    {
      "cell_type": "code",
      "metadata": {
        "id": "rlyLh5x80rso",
        "colab_type": "code",
        "colab": {}
      },
      "source": [
        "def get_top_J_similarity(user_idx, n, m_csr):\n",
        "  \n",
        "  length = m_csr.shape[0]\n",
        "  output = np.zeros(length)\n",
        "  user_np = m_csr[user_idx,:]\n",
        "\n",
        "  for i in range(length):\n",
        "    output[i] = jaccard_score(user_np, m_csr[i,:])\n",
        "  \n",
        "  #return index of user with top jaccard simialrity\n",
        "  return output.argsort()[-n:][::-1]\n",
        "    \n",
        "\n",
        "  \n",
        "  \n",
        "\n",
        "\n"
      ],
      "execution_count": 0,
      "outputs": []
    },
    {
      "cell_type": "code",
      "metadata": {
        "id": "_7Xfoel93kUR",
        "colab_type": "code",
        "outputId": "4e481a0f-6e21-458c-eef1-9d25064eb2f1",
        "colab": {
          "base_uri": "https://localhost:8080/",
          "height": 317
        }
      },
      "source": [
        "get_top_J_similarity(1, 10, utility_csr)"
      ],
      "execution_count": 0,
      "outputs": [
        {
          "output_type": "error",
          "ename": "TypeError",
          "evalue": "ignored",
          "traceback": [
            "\u001b[0;31m---------------------------------------------------------------------------\u001b[0m",
            "\u001b[0;31mTypeError\u001b[0m                                 Traceback (most recent call last)",
            "\u001b[0;32m<ipython-input-89-87f5dae46ea2>\u001b[0m in \u001b[0;36m<module>\u001b[0;34m()\u001b[0m\n\u001b[0;32m----> 1\u001b[0;31m \u001b[0mget_top_J_similarity\u001b[0m\u001b[0;34m(\u001b[0m\u001b[0;36m1\u001b[0m\u001b[0;34m,\u001b[0m \u001b[0;36m10\u001b[0m\u001b[0;34m,\u001b[0m \u001b[0mutility_csr\u001b[0m\u001b[0;34m)\u001b[0m\u001b[0;34m\u001b[0m\u001b[0;34m\u001b[0m\u001b[0m\n\u001b[0m",
            "\u001b[0;32m<ipython-input-88-f8822836c0c6>\u001b[0m in \u001b[0;36mget_top_J_similarity\u001b[0;34m(user_idx, n, m_csr)\u001b[0m\n\u001b[1;32m      6\u001b[0m \u001b[0;34m\u001b[0m\u001b[0m\n\u001b[1;32m      7\u001b[0m   \u001b[0;32mfor\u001b[0m \u001b[0mi\u001b[0m \u001b[0;32min\u001b[0m \u001b[0mrange\u001b[0m\u001b[0;34m(\u001b[0m\u001b[0mlength\u001b[0m\u001b[0;34m)\u001b[0m\u001b[0;34m:\u001b[0m\u001b[0;34m\u001b[0m\u001b[0;34m\u001b[0m\u001b[0m\n\u001b[0;32m----> 8\u001b[0;31m     \u001b[0moutput\u001b[0m\u001b[0;34m[\u001b[0m\u001b[0mi\u001b[0m\u001b[0;34m]\u001b[0m \u001b[0;34m=\u001b[0m \u001b[0mjaccard_score\u001b[0m\u001b[0;34m(\u001b[0m\u001b[0muser_np\u001b[0m\u001b[0;34m,\u001b[0m \u001b[0mm_csr\u001b[0m\u001b[0;34m[\u001b[0m\u001b[0mi\u001b[0m\u001b[0;34m,\u001b[0m\u001b[0;34m:\u001b[0m\u001b[0;34m]\u001b[0m\u001b[0;34m)\u001b[0m\u001b[0;34m\u001b[0m\u001b[0;34m\u001b[0m\u001b[0m\n\u001b[0m\u001b[1;32m      9\u001b[0m \u001b[0;34m\u001b[0m\u001b[0m\n\u001b[1;32m     10\u001b[0m   \u001b[0;31m#return index of user with top jaccard simialrity\u001b[0m\u001b[0;34m\u001b[0m\u001b[0;34m\u001b[0m\u001b[0;34m\u001b[0m\u001b[0m\n",
            "\u001b[0;32m/usr/local/lib/python3.6/dist-packages/sklearn/metrics/classification.py\u001b[0m in \u001b[0;36mjaccard_score\u001b[0;34m(y_true, y_pred, labels, pos_label, average, sample_weight)\u001b[0m\n\u001b[1;32m    763\u001b[0m     \"\"\"\n\u001b[1;32m    764\u001b[0m     labels = _check_set_wise_labels(y_true, y_pred, average, labels,\n\u001b[0;32m--> 765\u001b[0;31m                                     pos_label)\n\u001b[0m\u001b[1;32m    766\u001b[0m     \u001b[0msamplewise\u001b[0m \u001b[0;34m=\u001b[0m \u001b[0maverage\u001b[0m \u001b[0;34m==\u001b[0m \u001b[0;34m'samples'\u001b[0m\u001b[0;34m\u001b[0m\u001b[0;34m\u001b[0m\u001b[0m\n\u001b[1;32m    767\u001b[0m     MCM = multilabel_confusion_matrix(y_true, y_pred,\n",
            "\u001b[0;32m/usr/local/lib/python3.6/dist-packages/sklearn/metrics/classification.py\u001b[0m in \u001b[0;36m_check_set_wise_labels\u001b[0;34m(y_true, y_pred, average, labels, pos_label)\u001b[0m\n\u001b[1;32m   1237\u001b[0m                          str(average_options))\n\u001b[1;32m   1238\u001b[0m \u001b[0;34m\u001b[0m\u001b[0m\n\u001b[0;32m-> 1239\u001b[0;31m     \u001b[0my_type\u001b[0m\u001b[0;34m,\u001b[0m \u001b[0my_true\u001b[0m\u001b[0;34m,\u001b[0m \u001b[0my_pred\u001b[0m \u001b[0;34m=\u001b[0m \u001b[0m_check_targets\u001b[0m\u001b[0;34m(\u001b[0m\u001b[0my_true\u001b[0m\u001b[0;34m,\u001b[0m \u001b[0my_pred\u001b[0m\u001b[0;34m)\u001b[0m\u001b[0;34m\u001b[0m\u001b[0;34m\u001b[0m\u001b[0m\n\u001b[0m\u001b[1;32m   1240\u001b[0m     \u001b[0mpresent_labels\u001b[0m \u001b[0;34m=\u001b[0m \u001b[0munique_labels\u001b[0m\u001b[0;34m(\u001b[0m\u001b[0my_true\u001b[0m\u001b[0;34m,\u001b[0m \u001b[0my_pred\u001b[0m\u001b[0;34m)\u001b[0m\u001b[0;34m\u001b[0m\u001b[0;34m\u001b[0m\u001b[0m\n\u001b[1;32m   1241\u001b[0m     \u001b[0;32mif\u001b[0m \u001b[0maverage\u001b[0m \u001b[0;34m==\u001b[0m \u001b[0;34m'binary'\u001b[0m\u001b[0;34m:\u001b[0m\u001b[0;34m\u001b[0m\u001b[0;34m\u001b[0m\u001b[0m\n",
            "\u001b[0;32m/usr/local/lib/python3.6/dist-packages/sklearn/metrics/classification.py\u001b[0m in \u001b[0;36m_check_targets\u001b[0;34m(y_true, y_pred)\u001b[0m\n\u001b[1;32m     70\u001b[0m     \"\"\"\n\u001b[1;32m     71\u001b[0m     \u001b[0mcheck_consistent_length\u001b[0m\u001b[0;34m(\u001b[0m\u001b[0my_true\u001b[0m\u001b[0;34m,\u001b[0m \u001b[0my_pred\u001b[0m\u001b[0;34m)\u001b[0m\u001b[0;34m\u001b[0m\u001b[0;34m\u001b[0m\u001b[0m\n\u001b[0;32m---> 72\u001b[0;31m     \u001b[0mtype_true\u001b[0m \u001b[0;34m=\u001b[0m \u001b[0mtype_of_target\u001b[0m\u001b[0;34m(\u001b[0m\u001b[0my_true\u001b[0m\u001b[0;34m)\u001b[0m\u001b[0;34m\u001b[0m\u001b[0;34m\u001b[0m\u001b[0m\n\u001b[0m\u001b[1;32m     73\u001b[0m     \u001b[0mtype_pred\u001b[0m \u001b[0;34m=\u001b[0m \u001b[0mtype_of_target\u001b[0m\u001b[0;34m(\u001b[0m\u001b[0my_pred\u001b[0m\u001b[0;34m)\u001b[0m\u001b[0;34m\u001b[0m\u001b[0;34m\u001b[0m\u001b[0m\n\u001b[1;32m     74\u001b[0m \u001b[0;34m\u001b[0m\u001b[0m\n",
            "\u001b[0;32m/usr/local/lib/python3.6/dist-packages/sklearn/utils/multiclass.py\u001b[0m in \u001b[0;36mtype_of_target\u001b[0;34m(y)\u001b[0m\n\u001b[1;32m    267\u001b[0m \u001b[0;34m\u001b[0m\u001b[0m\n\u001b[1;32m    268\u001b[0m     \u001b[0;31m# Invalid inputs\u001b[0m\u001b[0;34m\u001b[0m\u001b[0;34m\u001b[0m\u001b[0;34m\u001b[0m\u001b[0m\n\u001b[0;32m--> 269\u001b[0;31m     if y.ndim > 2 or (y.dtype == object and len(y) and\n\u001b[0m\u001b[1;32m    270\u001b[0m                       not isinstance(y.flat[0], str)):\n\u001b[1;32m    271\u001b[0m         \u001b[0;32mreturn\u001b[0m \u001b[0;34m'unknown'\u001b[0m  \u001b[0;31m# [[[1, 2]]] or [obj_1] and not [\"label_1\"]\u001b[0m\u001b[0;34m\u001b[0m\u001b[0;34m\u001b[0m\u001b[0m\n",
            "\u001b[0;31mTypeError\u001b[0m: len() of unsized object"
          ]
        }
      ]
    },
    {
      "cell_type": "code",
      "metadata": {
        "id": "l7AggK5R92Rq",
        "colab_type": "code",
        "colab": {}
      },
      "source": [
        "#try this function, works in my notebook\n",
        "def get_top_J_similarity(user_idx, n, m_csr):\n",
        "    length = m_csr.shape[0]\n",
        "    output = np.zeros(length)\n",
        "    \n",
        "    \n",
        "   \n",
        "    user_np = utility_csr.getrow(user_idx).toarray().sum(axis=0)\n",
        "  \n",
        "\n",
        "    for i in range(length):\n",
        "        output[i] = get_jaccard(user_np, utility_csr.getrow(i).toarray().sum(axis=0))\n",
        "  \n",
        "  #return index of user with top jaccard simialrity\n",
        "    return output.argsort()[-n:][::-1]\n",
        "    "
      ],
      "execution_count": 0,
      "outputs": []
    },
    {
      "cell_type": "markdown",
      "metadata": {
        "id": "fmRoelgzVMET",
        "colab_type": "text"
      },
      "source": [
        "### Cosine similarity"
      ]
    },
    {
      "cell_type": "code",
      "metadata": {
        "id": "DkHm-qZgU8Uk",
        "colab_type": "code",
        "outputId": "7bf681e5-4484-4c38-dbff-7f6c987d7c00",
        "colab": {
          "base_uri": "https://localhost:8080/",
          "height": 169
        }
      },
      "source": [
        "utility_csr.shape[0]"
      ],
      "execution_count": 0,
      "outputs": [
        {
          "output_type": "error",
          "ename": "NameError",
          "evalue": "ignored",
          "traceback": [
            "\u001b[0;31m---------------------------------------------------------------------------\u001b[0m",
            "\u001b[0;31mNameError\u001b[0m                                 Traceback (most recent call last)",
            "\u001b[0;32m<ipython-input-42-35dd211a9e28>\u001b[0m in \u001b[0;36m<module>\u001b[0;34m()\u001b[0m\n\u001b[0;32m----> 1\u001b[0;31m \u001b[0mutility_csr\u001b[0m\u001b[0;34m.\u001b[0m\u001b[0mshape\u001b[0m\u001b[0;34m[\u001b[0m\u001b[0;36m0\u001b[0m\u001b[0;34m]\u001b[0m\u001b[0;34m\u001b[0m\u001b[0;34m\u001b[0m\u001b[0m\n\u001b[0m",
            "\u001b[0;31mNameError\u001b[0m: name 'utility_csr' is not defined"
          ]
        }
      ]
    },
    {
      "cell_type": "code",
      "metadata": {
        "id": "t-ijNm-xnC1B",
        "colab_type": "code",
        "colab": {}
      },
      "source": [
        "# Function that takes in movie title as input and outputs most similar movies\n",
        "def get_similar_users(user_id,df):\n",
        "    #Construct the csr matrix \n",
        "    utility_csr = csr_matrix((df.adg_rating, (df.user_index.values, df.movie_index.values)))\n",
        "    print(utility_csr.shape[0])\n",
        "    j_score = []\n",
        "    #for i in range(283228):\n",
        "    score = jaccard_score(utility_csr[user_id,:],utility_csr[2,:])\n",
        "    print(score)\n",
        "    # Get the pairwsie similarity scores of all users with that user\n",
        "    sim_scores = list(enumerate(jaccard_score))\n",
        "    # Sort the movies based on the similarity scores\n",
        "    sim_scores = sorted(sim_scores, key=lambda x: x[1], reverse=True)\n",
        "    # Get the scores of the 10 most similar movies\n",
        "    sim_scores = sim_scores[1:11]\n",
        "    # Get the similar user indices\n",
        "    user_indices = [i[0] for i in sim_scores]\n",
        "    # Return the top 10 most similar user_index\n",
        "    return user_indices"
      ],
      "execution_count": 0,
      "outputs": []
    },
    {
      "cell_type": "code",
      "metadata": {
        "id": "nWX3EoeIWb_y",
        "colab_type": "code",
        "colab": {}
      },
      "source": [
        "def get_user_similar_movies( user1, user2,df ):\n",
        "    movies = pd.read_csv('/content/drive/My Drive/movies.csv')\n",
        "    common_movies = df[df.user_index == user1].merge(\n",
        "    df[df.user_index == user2],on = \"movieId\" )\n",
        "    common_movies = common_movies.merge(movies,on = 'movieId')\n",
        "\n",
        "    return common_movies.loc[ : , ['rating_x_x','rating_x_y','title']]\n"
      ],
      "execution_count": 0,
      "outputs": []
    },
    {
      "cell_type": "code",
      "metadata": {
        "id": "CA3CPjbjsU_s",
        "colab_type": "code",
        "outputId": "f767fbb1-305f-493a-dd18-62ef0b8733b5",
        "colab": {
          "base_uri": "https://localhost:8080/",
          "height": 335
        }
      },
      "source": [
        "get_similar_users(370,data)"
      ],
      "execution_count": 0,
      "outputs": [
        {
          "output_type": "stream",
          "text": [
            "283228\n"
          ],
          "name": "stdout"
        },
        {
          "output_type": "error",
          "ename": "TypeError",
          "evalue": "ignored",
          "traceback": [
            "\u001b[0;31m---------------------------------------------------------------------------\u001b[0m",
            "\u001b[0;31mTypeError\u001b[0m                                 Traceback (most recent call last)",
            "\u001b[0;32m<ipython-input-54-1e19e790895b>\u001b[0m in \u001b[0;36m<module>\u001b[0;34m()\u001b[0m\n\u001b[0;32m----> 1\u001b[0;31m \u001b[0mget_similar_users\u001b[0m\u001b[0;34m(\u001b[0m\u001b[0;36m370\u001b[0m\u001b[0;34m,\u001b[0m\u001b[0mdata\u001b[0m\u001b[0;34m)\u001b[0m\u001b[0;34m\u001b[0m\u001b[0;34m\u001b[0m\u001b[0m\n\u001b[0m",
            "\u001b[0;32m<ipython-input-53-643ea0c9c4e8>\u001b[0m in \u001b[0;36mget_similar_users\u001b[0;34m(user_id, df)\u001b[0m\n\u001b[1;32m      5\u001b[0m     \u001b[0mj_score\u001b[0m \u001b[0;34m=\u001b[0m \u001b[0;34m[\u001b[0m\u001b[0;34m]\u001b[0m\u001b[0;34m\u001b[0m\u001b[0;34m\u001b[0m\u001b[0m\n\u001b[1;32m      6\u001b[0m     \u001b[0;31m#for i in range(283228):\u001b[0m\u001b[0;34m\u001b[0m\u001b[0;34m\u001b[0m\u001b[0;34m\u001b[0m\u001b[0m\n\u001b[0;32m----> 7\u001b[0;31m     \u001b[0mscore\u001b[0m \u001b[0;34m=\u001b[0m \u001b[0mjaccard_score\u001b[0m\u001b[0;34m(\u001b[0m\u001b[0mutility_csr\u001b[0m\u001b[0;34m[\u001b[0m\u001b[0muser_id\u001b[0m\u001b[0;34m,\u001b[0m\u001b[0;34m:\u001b[0m\u001b[0;34m]\u001b[0m\u001b[0;34m,\u001b[0m\u001b[0mutility_csr\u001b[0m\u001b[0;34m[\u001b[0m\u001b[0;36m2\u001b[0m\u001b[0;34m,\u001b[0m\u001b[0;34m:\u001b[0m\u001b[0;34m]\u001b[0m\u001b[0;34m)\u001b[0m\u001b[0;34m\u001b[0m\u001b[0;34m\u001b[0m\u001b[0m\n\u001b[0m\u001b[1;32m      8\u001b[0m     \u001b[0mprint\u001b[0m\u001b[0;34m(\u001b[0m\u001b[0mscore\u001b[0m\u001b[0;34m)\u001b[0m\u001b[0;34m\u001b[0m\u001b[0;34m\u001b[0m\u001b[0m\n\u001b[1;32m      9\u001b[0m     \u001b[0;31m# Get the pairwsie similarity scores of all users with that user\u001b[0m\u001b[0;34m\u001b[0m\u001b[0;34m\u001b[0m\u001b[0;34m\u001b[0m\u001b[0m\n",
            "\u001b[0;32m/usr/local/lib/python3.6/dist-packages/sklearn/metrics/classification.py\u001b[0m in \u001b[0;36mjaccard_score\u001b[0;34m(y_true, y_pred, labels, pos_label, average, sample_weight)\u001b[0m\n\u001b[1;32m    763\u001b[0m     \"\"\"\n\u001b[1;32m    764\u001b[0m     labels = _check_set_wise_labels(y_true, y_pred, average, labels,\n\u001b[0;32m--> 765\u001b[0;31m                                     pos_label)\n\u001b[0m\u001b[1;32m    766\u001b[0m     \u001b[0msamplewise\u001b[0m \u001b[0;34m=\u001b[0m \u001b[0maverage\u001b[0m \u001b[0;34m==\u001b[0m \u001b[0;34m'samples'\u001b[0m\u001b[0;34m\u001b[0m\u001b[0;34m\u001b[0m\u001b[0m\n\u001b[1;32m    767\u001b[0m     MCM = multilabel_confusion_matrix(y_true, y_pred,\n",
            "\u001b[0;32m/usr/local/lib/python3.6/dist-packages/sklearn/metrics/classification.py\u001b[0m in \u001b[0;36m_check_set_wise_labels\u001b[0;34m(y_true, y_pred, average, labels, pos_label)\u001b[0m\n\u001b[1;32m   1237\u001b[0m                          str(average_options))\n\u001b[1;32m   1238\u001b[0m \u001b[0;34m\u001b[0m\u001b[0m\n\u001b[0;32m-> 1239\u001b[0;31m     \u001b[0my_type\u001b[0m\u001b[0;34m,\u001b[0m \u001b[0my_true\u001b[0m\u001b[0;34m,\u001b[0m \u001b[0my_pred\u001b[0m \u001b[0;34m=\u001b[0m \u001b[0m_check_targets\u001b[0m\u001b[0;34m(\u001b[0m\u001b[0my_true\u001b[0m\u001b[0;34m,\u001b[0m \u001b[0my_pred\u001b[0m\u001b[0;34m)\u001b[0m\u001b[0;34m\u001b[0m\u001b[0;34m\u001b[0m\u001b[0m\n\u001b[0m\u001b[1;32m   1240\u001b[0m     \u001b[0mpresent_labels\u001b[0m \u001b[0;34m=\u001b[0m \u001b[0munique_labels\u001b[0m\u001b[0;34m(\u001b[0m\u001b[0my_true\u001b[0m\u001b[0;34m,\u001b[0m \u001b[0my_pred\u001b[0m\u001b[0;34m)\u001b[0m\u001b[0;34m\u001b[0m\u001b[0;34m\u001b[0m\u001b[0m\n\u001b[1;32m   1241\u001b[0m     \u001b[0;32mif\u001b[0m \u001b[0maverage\u001b[0m \u001b[0;34m==\u001b[0m \u001b[0;34m'binary'\u001b[0m\u001b[0;34m:\u001b[0m\u001b[0;34m\u001b[0m\u001b[0;34m\u001b[0m\u001b[0m\n",
            "\u001b[0;32m/usr/local/lib/python3.6/dist-packages/sklearn/metrics/classification.py\u001b[0m in \u001b[0;36m_check_targets\u001b[0;34m(y_true, y_pred)\u001b[0m\n\u001b[1;32m     70\u001b[0m     \"\"\"\n\u001b[1;32m     71\u001b[0m     \u001b[0mcheck_consistent_length\u001b[0m\u001b[0;34m(\u001b[0m\u001b[0my_true\u001b[0m\u001b[0;34m,\u001b[0m \u001b[0my_pred\u001b[0m\u001b[0;34m)\u001b[0m\u001b[0;34m\u001b[0m\u001b[0;34m\u001b[0m\u001b[0m\n\u001b[0;32m---> 72\u001b[0;31m     \u001b[0mtype_true\u001b[0m \u001b[0;34m=\u001b[0m \u001b[0mtype_of_target\u001b[0m\u001b[0;34m(\u001b[0m\u001b[0my_true\u001b[0m\u001b[0;34m)\u001b[0m\u001b[0;34m\u001b[0m\u001b[0;34m\u001b[0m\u001b[0m\n\u001b[0m\u001b[1;32m     73\u001b[0m     \u001b[0mtype_pred\u001b[0m \u001b[0;34m=\u001b[0m \u001b[0mtype_of_target\u001b[0m\u001b[0;34m(\u001b[0m\u001b[0my_pred\u001b[0m\u001b[0;34m)\u001b[0m\u001b[0;34m\u001b[0m\u001b[0;34m\u001b[0m\u001b[0m\n\u001b[1;32m     74\u001b[0m \u001b[0;34m\u001b[0m\u001b[0m\n",
            "\u001b[0;32m/usr/local/lib/python3.6/dist-packages/sklearn/utils/multiclass.py\u001b[0m in \u001b[0;36mtype_of_target\u001b[0;34m(y)\u001b[0m\n\u001b[1;32m    267\u001b[0m \u001b[0;34m\u001b[0m\u001b[0m\n\u001b[1;32m    268\u001b[0m     \u001b[0;31m# Invalid inputs\u001b[0m\u001b[0;34m\u001b[0m\u001b[0;34m\u001b[0m\u001b[0;34m\u001b[0m\u001b[0m\n\u001b[0;32m--> 269\u001b[0;31m     if y.ndim > 2 or (y.dtype == object and len(y) and\n\u001b[0m\u001b[1;32m    270\u001b[0m                       not isinstance(y.flat[0], str)):\n\u001b[1;32m    271\u001b[0m         \u001b[0;32mreturn\u001b[0m \u001b[0;34m'unknown'\u001b[0m  \u001b[0;31m# [[[1, 2]]] or [obj_1] and not [\"label_1\"]\u001b[0m\u001b[0;34m\u001b[0m\u001b[0;34m\u001b[0m\u001b[0m\n",
            "\u001b[0;31mTypeError\u001b[0m: len() of unsized object"
          ]
        }
      ]
    },
    {
      "cell_type": "code",
      "metadata": {
        "id": "cQG2PQADr5dp",
        "colab_type": "code",
        "outputId": "3be613f6-7ed9-434e-8b94-8194759116e9",
        "colab": {
          "base_uri": "https://localhost:8080/",
          "height": 106
        }
      },
      "source": [
        "get_user_similar_movies(370,33035,data)"
      ],
      "execution_count": 0,
      "outputs": [
        {
          "output_type": "execute_result",
          "data": {
            "text/html": [
              "<div>\n",
              "<style scoped>\n",
              "    .dataframe tbody tr th:only-of-type {\n",
              "        vertical-align: middle;\n",
              "    }\n",
              "\n",
              "    .dataframe tbody tr th {\n",
              "        vertical-align: top;\n",
              "    }\n",
              "\n",
              "    .dataframe thead th {\n",
              "        text-align: right;\n",
              "    }\n",
              "</style>\n",
              "<table border=\"1\" class=\"dataframe\">\n",
              "  <thead>\n",
              "    <tr style=\"text-align: right;\">\n",
              "      <th></th>\n",
              "      <th>rating_x_x</th>\n",
              "      <th>rating_x_y</th>\n",
              "      <th>title</th>\n",
              "    </tr>\n",
              "  </thead>\n",
              "  <tbody>\n",
              "    <tr>\n",
              "      <th>0</th>\n",
              "      <td>1.0</td>\n",
              "      <td>4.0</td>\n",
              "      <td>Matrix, The (1999)</td>\n",
              "    </tr>\n",
              "    <tr>\n",
              "      <th>1</th>\n",
              "      <td>5.0</td>\n",
              "      <td>5.0</td>\n",
              "      <td>Coco (2017)</td>\n",
              "    </tr>\n",
              "  </tbody>\n",
              "</table>\n",
              "</div>"
            ],
            "text/plain": [
              "   rating_x_x  rating_x_y               title\n",
              "0         1.0         4.0  Matrix, The (1999)\n",
              "1         5.0         5.0         Coco (2017)"
            ]
          },
          "metadata": {
            "tags": []
          },
          "execution_count": 36
        }
      ]
    },
    {
      "cell_type": "markdown",
      "metadata": {
        "id": "i_Rt7Tjr1N9_",
        "colab_type": "text"
      },
      "source": [
        "## Deep Learning Model"
      ]
    },
    {
      "cell_type": "code",
      "metadata": {
        "id": "yjXbcLdO1P2w",
        "colab_type": "code",
        "colab": {}
      },
      "source": [
        "def CFModel(input_p,input_q,n_users, m_items, k_factors):\n",
        "    # P is the embedding layer that creates an User by latent factors matrix.\n",
        "    # If the intput is a user_id, P returns the latent factor vector for that user.\n",
        "    P = Embedding(n_users, k_factors, input_length=1)(input_p)\n",
        "    P = Reshape((k_factors,))(P)\n",
        "\n",
        "    # Q is the embedding layer that creates a Movie by latent factors matrix.\n",
        "    # If the input is a movie_id, Q returns the latent factor vector for that movie.\n",
        "    Q = Embedding(m_items, k_factors, input_length=1)(input_q)\n",
        "    Q = Reshape((k_factors,))(Q)\n",
        "    \n",
        "    # The Merge layer takes the dot product of user and movie latent factor vectors to return the corresponding rating.   \n",
        "    output  = dot([P, Q], axes =1)\n",
        "    return output"
      ],
      "execution_count": 0,
      "outputs": []
    },
    {
      "cell_type": "code",
      "metadata": {
        "id": "I6NvH0i92LRg",
        "colab_type": "code",
        "colab": {}
      },
      "source": [
        "# Reading ratings file\n",
        "ratings = pd.read_csv('/content/drive/My Drive/ratings.csv')\n",
        "max_userid = ratings['userId'].drop_duplicates().max()\n",
        "max_movieid = ratings['movieId'].drop_duplicates().max()"
      ],
      "execution_count": 0,
      "outputs": []
    },
    {
      "cell_type": "code",
      "metadata": {
        "id": "CEteJ00Eprvj",
        "colab_type": "code",
        "colab": {}
      },
      "source": [
        "ratings_downsample = ratings[ratings['userId'] % 80 ==0]"
      ],
      "execution_count": 0,
      "outputs": []
    },
    {
      "cell_type": "code",
      "metadata": {
        "id": "3dp5NcSD3NjH",
        "colab_type": "code",
        "outputId": "a88d5278-1274-412f-da7b-4949579e0064",
        "colab": {
          "base_uri": "https://localhost:8080/",
          "height": 70
        }
      },
      "source": [
        "# Create training set\n",
        "shuffled_ratings = ratings_downsample.sample(frac=1., random_state=1002)\n",
        "\n",
        "# Shuffling users\n",
        "Users = shuffled_ratings['userId'].values\n",
        "print ('Users:', Users, ', shape =', Users.shape)\n",
        "\n",
        "# Shuffling movies\n",
        "Movies = shuffled_ratings['movieId'].values\n",
        "print ('Movies:', Movies, ', shape =', Movies.shape)\n",
        "\n",
        "# Shuffling ratings\n",
        "Ratings = shuffled_ratings['rating'].values\n",
        "print ('Ratings:', Ratings, ', shape =', Ratings.shape)"
      ],
      "execution_count": 0,
      "outputs": [
        {
          "output_type": "stream",
          "text": [
            "Users: [117680  22560 228320 ...  52480 265920 274800] , shape = (364602,)\n",
            "Movies: [114662   3543   4718 ...  96079  45503     16] , shape = (364602,)\n",
            "Ratings: [3.5 3.  3.  ... 3.  3.5 4. ] , shape = (364602,)\n"
          ],
          "name": "stdout"
        }
      ]
    },
    {
      "cell_type": "code",
      "metadata": {
        "id": "LXupdVVC3pgV",
        "colab_type": "code",
        "colab": {}
      },
      "source": [
        "# Define constants\n",
        "K_FACTORS = 100 # The number of dimensional embeddings for movies and users\n",
        "TEST_USER = 6400 # A random test user (user_id = 1500)"
      ],
      "execution_count": 0,
      "outputs": []
    },
    {
      "cell_type": "code",
      "metadata": {
        "id": "T9AHnLMi7LyT",
        "colab_type": "code",
        "outputId": "7f6d2e18-a3c8-4040-d27a-00171aa48594",
        "colab": {
          "base_uri": "https://localhost:8080/",
          "height": 179
        }
      },
      "source": [
        "# Define model\n",
        "input_p = Input(shape = (1,)) \n",
        "input_q = Input(shape = (1,)) \n",
        "output = CFModel(input_p,input_q,max_userid, max_movieid, K_FACTORS)\n",
        "model = keras.Model([input_p,input_q],output)\n",
        "# Compile the model using MSE as the loss function and the AdaMax learning algorithm\n",
        "model.compile(loss='mse', optimizer='adamax')"
      ],
      "execution_count": 0,
      "outputs": [
        {
          "output_type": "stream",
          "text": [
            "WARNING:tensorflow:From /usr/local/lib/python3.6/dist-packages/keras/backend/tensorflow_backend.py:66: The name tf.get_default_graph is deprecated. Please use tf.compat.v1.get_default_graph instead.\n",
            "\n",
            "WARNING:tensorflow:From /usr/local/lib/python3.6/dist-packages/keras/backend/tensorflow_backend.py:541: The name tf.placeholder is deprecated. Please use tf.compat.v1.placeholder instead.\n",
            "\n",
            "WARNING:tensorflow:From /usr/local/lib/python3.6/dist-packages/keras/backend/tensorflow_backend.py:4432: The name tf.random_uniform is deprecated. Please use tf.random.uniform instead.\n",
            "\n",
            "WARNING:tensorflow:From /usr/local/lib/python3.6/dist-packages/keras/optimizers.py:793: The name tf.train.Optimizer is deprecated. Please use tf.compat.v1.train.Optimizer instead.\n",
            "\n"
          ],
          "name": "stdout"
        }
      ]
    },
    {
      "cell_type": "code",
      "metadata": {
        "id": "LDVBefLa3vSL",
        "colab_type": "code",
        "outputId": "387efc88-340d-4279-a509-471dea3bf5b6",
        "colab": {
          "base_uri": "https://localhost:8080/",
          "height": 1000
        }
      },
      "source": [
        "# Callbacks monitor the validation loss\n",
        "# Save the model weights each time the validation loss has improved\n",
        "callbacks = [EarlyStopping('val_loss', patience=5), \n",
        "             ModelCheckpoint('/content/drive/My Drive/weights.h5', save_best_only=True)]\n",
        "\n",
        "# Use 30 epochs, 90% training data, 10% validation data \n",
        "history = model.fit([Users, Movies], Ratings, epochs=30, validation_split=.2, verbose=2, callbacks=callbacks)"
      ],
      "execution_count": 0,
      "outputs": [
        {
          "output_type": "stream",
          "text": [
            "WARNING:tensorflow:From /usr/local/lib/python3.6/dist-packages/keras/backend/tensorflow_backend.py:1033: The name tf.assign_add is deprecated. Please use tf.compat.v1.assign_add instead.\n",
            "\n",
            "WARNING:tensorflow:From /usr/local/lib/python3.6/dist-packages/keras/backend/tensorflow_backend.py:1020: The name tf.assign is deprecated. Please use tf.compat.v1.assign instead.\n",
            "\n",
            "Train on 291681 samples, validate on 72921 samples\n",
            "Epoch 1/30\n",
            "WARNING:tensorflow:From /usr/local/lib/python3.6/dist-packages/keras/backend/tensorflow_backend.py:190: The name tf.get_default_session is deprecated. Please use tf.compat.v1.get_default_session instead.\n",
            "\n",
            "WARNING:tensorflow:From /usr/local/lib/python3.6/dist-packages/keras/backend/tensorflow_backend.py:207: The name tf.global_variables is deprecated. Please use tf.compat.v1.global_variables instead.\n",
            "\n",
            "WARNING:tensorflow:From /usr/local/lib/python3.6/dist-packages/keras/backend/tensorflow_backend.py:216: The name tf.is_variable_initialized is deprecated. Please use tf.compat.v1.is_variable_initialized instead.\n",
            "\n",
            "WARNING:tensorflow:From /usr/local/lib/python3.6/dist-packages/keras/backend/tensorflow_backend.py:223: The name tf.variables_initializer is deprecated. Please use tf.compat.v1.variables_initializer instead.\n",
            "\n",
            " - 397s - loss: 12.4773 - val_loss: 9.1565\n",
            "Epoch 2/30\n",
            " - 396s - loss: 5.9907 - val_loss: 4.1702\n",
            "Epoch 3/30\n",
            " - 396s - loss: 3.2491 - val_loss: 2.7741\n",
            "Epoch 4/30\n",
            " - 397s - loss: 2.3030 - val_loss: 2.1740\n",
            "Epoch 5/30\n",
            " - 396s - loss: 1.8415 - val_loss: 1.8475\n",
            "Epoch 6/30\n",
            " - 396s - loss: 1.5699 - val_loss: 1.6420\n",
            "Epoch 7/30\n",
            " - 396s - loss: 1.3877 - val_loss: 1.5018\n",
            "Epoch 8/30\n",
            " - 396s - loss: 1.2558 - val_loss: 1.4008\n",
            "Epoch 9/30\n",
            " - 396s - loss: 1.1547 - val_loss: 1.3254\n",
            "Epoch 10/30\n",
            " - 396s - loss: 1.0744 - val_loss: 1.2672\n",
            "Epoch 11/30\n",
            " - 395s - loss: 1.0079 - val_loss: 1.2218\n",
            "Epoch 12/30\n",
            " - 396s - loss: 0.9514 - val_loss: 1.1866\n",
            "Epoch 13/30\n",
            " - 395s - loss: 0.9020 - val_loss: 1.1580\n",
            "Epoch 14/30\n",
            " - 396s - loss: 0.8579 - val_loss: 1.1339\n",
            "Epoch 15/30\n",
            " - 396s - loss: 0.8179 - val_loss: 1.1130\n",
            "Epoch 16/30\n",
            " - 396s - loss: 0.7804 - val_loss: 1.0966\n",
            "Epoch 17/30\n",
            " - 396s - loss: 0.7462 - val_loss: 1.0822\n",
            "Epoch 18/30\n",
            " - 396s - loss: 0.7135 - val_loss: 1.0715\n",
            "Epoch 19/30\n",
            " - 396s - loss: 0.6829 - val_loss: 1.0610\n",
            "Epoch 20/30\n",
            " - 396s - loss: 0.6536 - val_loss: 1.0522\n",
            "Epoch 21/30\n",
            " - 395s - loss: 0.6255 - val_loss: 1.0467\n",
            "Epoch 22/30\n",
            " - 396s - loss: 0.5988 - val_loss: 1.0402\n",
            "Epoch 23/30\n",
            " - 396s - loss: 0.5731 - val_loss: 1.0356\n",
            "Epoch 24/30\n",
            " - 396s - loss: 0.5480 - val_loss: 1.0319\n",
            "Epoch 25/30\n",
            " - 396s - loss: 0.5240 - val_loss: 1.0301\n",
            "Epoch 26/30\n",
            " - 396s - loss: 0.5006 - val_loss: 1.0292\n",
            "Epoch 27/30\n",
            " - 396s - loss: 0.4786 - val_loss: 1.0279\n",
            "Epoch 28/30\n",
            " - 396s - loss: 0.4571 - val_loss: 1.0281\n",
            "Epoch 29/30\n",
            " - 396s - loss: 0.4363 - val_loss: 1.0295\n",
            "Epoch 30/30\n",
            " - 396s - loss: 0.4163 - val_loss: 1.0309\n"
          ],
          "name": "stdout"
        }
      ]
    },
    {
      "cell_type": "code",
      "metadata": {
        "id": "akgZfBVD_6In",
        "colab_type": "code",
        "colab": {}
      },
      "source": [
        "# The rate function to predict user's rating of unrated items\n",
        "def rate(user_id, item_id):\n",
        "    return .predict([np.array([user_id]), np.array([item_id])])[0][0]\n"
      ],
      "execution_count": 0,
      "outputs": []
    },
    {
      "cell_type": "code",
      "metadata": {
        "id": "8jDWHER8BWZg",
        "colab_type": "code",
        "outputId": "ba537ff8-4f42-495c-f139-3344bd662df7",
        "colab": {
          "base_uri": "https://localhost:8080/",
          "height": 35
        }
      },
      "source": [
        "model.predict([[1500],[362]])"
      ],
      "execution_count": 0,
      "outputs": [
        {
          "output_type": "execute_result",
          "data": {
            "text/plain": [
              "array([[2.5149899]], dtype=float32)"
            ]
          },
          "metadata": {
            "tags": []
          },
          "execution_count": 53
        }
      ]
    },
    {
      "cell_type": "code",
      "metadata": {
        "id": "BrxyMyRWApiS",
        "colab_type": "code",
        "colab": {}
      },
      "source": [
        "user_ratings = ratings[ratings['userId'] == TEST_USER][['userId', 'movieId', 'rating']]\n",
        "user_ratings['predicted_rating'] = user_ratings.apply(lambda x: model.predict([[TEST_USER], [x['movieId']]]).flatten().flatten(), axis=1)"
      ],
      "execution_count": 0,
      "outputs": []
    },
    {
      "cell_type": "code",
      "metadata": {
        "id": "4OuJ3eUkCs9c",
        "colab_type": "code",
        "outputId": "21b197c2-4b14-4f2f-9466-cc3702b9f1b5",
        "colab": {
          "base_uri": "https://localhost:8080/",
          "height": 516
        }
      },
      "source": [
        "user_ratings"
      ],
      "execution_count": 0,
      "outputs": [
        {
          "output_type": "execute_result",
          "data": {
            "text/html": [
              "<div>\n",
              "<style scoped>\n",
              "    .dataframe tbody tr th:only-of-type {\n",
              "        vertical-align: middle;\n",
              "    }\n",
              "\n",
              "    .dataframe tbody tr th {\n",
              "        vertical-align: top;\n",
              "    }\n",
              "\n",
              "    .dataframe thead th {\n",
              "        text-align: right;\n",
              "    }\n",
              "</style>\n",
              "<table border=\"1\" class=\"dataframe\">\n",
              "  <thead>\n",
              "    <tr style=\"text-align: right;\">\n",
              "      <th></th>\n",
              "      <th>userId</th>\n",
              "      <th>movieId</th>\n",
              "      <th>rating</th>\n",
              "      <th>predicted_rating</th>\n",
              "    </tr>\n",
              "  </thead>\n",
              "  <tbody>\n",
              "    <tr>\n",
              "      <th>151415</th>\n",
              "      <td>1500</td>\n",
              "      <td>60</td>\n",
              "      <td>0.5</td>\n",
              "      <td>[2.157028]</td>\n",
              "    </tr>\n",
              "    <tr>\n",
              "      <th>151416</th>\n",
              "      <td>1500</td>\n",
              "      <td>107</td>\n",
              "      <td>3.0</td>\n",
              "      <td>[2.4973726]</td>\n",
              "    </tr>\n",
              "    <tr>\n",
              "      <th>151417</th>\n",
              "      <td>1500</td>\n",
              "      <td>303</td>\n",
              "      <td>3.5</td>\n",
              "      <td>[2.3923533]</td>\n",
              "    </tr>\n",
              "    <tr>\n",
              "      <th>151418</th>\n",
              "      <td>1500</td>\n",
              "      <td>362</td>\n",
              "      <td>3.0</td>\n",
              "      <td>[2.5149899]</td>\n",
              "    </tr>\n",
              "    <tr>\n",
              "      <th>151419</th>\n",
              "      <td>1500</td>\n",
              "      <td>637</td>\n",
              "      <td>3.5</td>\n",
              "      <td>[2.09068]</td>\n",
              "    </tr>\n",
              "    <tr>\n",
              "      <th>151420</th>\n",
              "      <td>1500</td>\n",
              "      <td>1037</td>\n",
              "      <td>0.5</td>\n",
              "      <td>[2.0113392]</td>\n",
              "    </tr>\n",
              "    <tr>\n",
              "      <th>151421</th>\n",
              "      <td>1500</td>\n",
              "      <td>2826</td>\n",
              "      <td>4.0</td>\n",
              "      <td>[2.4777238]</td>\n",
              "    </tr>\n",
              "    <tr>\n",
              "      <th>151422</th>\n",
              "      <td>1500</td>\n",
              "      <td>2872</td>\n",
              "      <td>0.5</td>\n",
              "      <td>[2.354858]</td>\n",
              "    </tr>\n",
              "    <tr>\n",
              "      <th>151423</th>\n",
              "      <td>1500</td>\n",
              "      <td>3107</td>\n",
              "      <td>2.0</td>\n",
              "      <td>[2.3406978]</td>\n",
              "    </tr>\n",
              "    <tr>\n",
              "      <th>151424</th>\n",
              "      <td>1500</td>\n",
              "      <td>3174</td>\n",
              "      <td>5.0</td>\n",
              "      <td>[2.5547493]</td>\n",
              "    </tr>\n",
              "    <tr>\n",
              "      <th>151425</th>\n",
              "      <td>1500</td>\n",
              "      <td>3300</td>\n",
              "      <td>3.0</td>\n",
              "      <td>[2.5867393]</td>\n",
              "    </tr>\n",
              "    <tr>\n",
              "      <th>151426</th>\n",
              "      <td>1500</td>\n",
              "      <td>3624</td>\n",
              "      <td>3.0</td>\n",
              "      <td>[2.3536751]</td>\n",
              "    </tr>\n",
              "    <tr>\n",
              "      <th>151427</th>\n",
              "      <td>1500</td>\n",
              "      <td>3826</td>\n",
              "      <td>0.5</td>\n",
              "      <td>[1.4816306]</td>\n",
              "    </tr>\n",
              "    <tr>\n",
              "      <th>151428</th>\n",
              "      <td>1500</td>\n",
              "      <td>3863</td>\n",
              "      <td>3.0</td>\n",
              "      <td>[2.323998]</td>\n",
              "    </tr>\n",
              "    <tr>\n",
              "      <th>151429</th>\n",
              "      <td>1500</td>\n",
              "      <td>4002</td>\n",
              "      <td>2.0</td>\n",
              "      <td>[2.7072015]</td>\n",
              "    </tr>\n",
              "    <tr>\n",
              "      <th>151430</th>\n",
              "      <td>1500</td>\n",
              "      <td>4643</td>\n",
              "      <td>0.5</td>\n",
              "      <td>[2.1824229]</td>\n",
              "    </tr>\n",
              "  </tbody>\n",
              "</table>\n",
              "</div>"
            ],
            "text/plain": [
              "        userId  movieId  rating predicted_rating\n",
              "151415    1500       60     0.5       [2.157028]\n",
              "151416    1500      107     3.0      [2.4973726]\n",
              "151417    1500      303     3.5      [2.3923533]\n",
              "151418    1500      362     3.0      [2.5149899]\n",
              "151419    1500      637     3.5        [2.09068]\n",
              "151420    1500     1037     0.5      [2.0113392]\n",
              "151421    1500     2826     4.0      [2.4777238]\n",
              "151422    1500     2872     0.5       [2.354858]\n",
              "151423    1500     3107     2.0      [2.3406978]\n",
              "151424    1500     3174     5.0      [2.5547493]\n",
              "151425    1500     3300     3.0      [2.5867393]\n",
              "151426    1500     3624     3.0      [2.3536751]\n",
              "151427    1500     3826     0.5      [1.4816306]\n",
              "151428    1500     3863     3.0       [2.323998]\n",
              "151429    1500     4002     2.0      [2.7072015]\n",
              "151430    1500     4643     0.5      [2.1824229]"
            ]
          },
          "metadata": {
            "tags": []
          },
          "execution_count": 60
        }
      ]
    },
    {
      "cell_type": "markdown",
      "metadata": {
        "id": "SZXJEOwxErlk",
        "colab_type": "text"
      },
      "source": [
        ""
      ]
    },
    {
      "cell_type": "markdown",
      "metadata": {
        "id": "4V1WmP6VExyU",
        "colab_type": "text"
      },
      "source": [
        "## SVD\n",
        "\n",
        "\n",
        "\n"
      ]
    },
    {
      "cell_type": "code",
      "metadata": {
        "id": "yNn0b4g-oguI",
        "colab_type": "code",
        "colab": {}
      },
      "source": [
        "import pandas as pd\n",
        "import numpy as np\n",
        "# Reading ratings file\n",
        "ratings = pd.read_csv('ratings.csv', sep='\\t', encoding='latin-1', usecols=['user_id', 'movie_id', 'rating', 'timestamp'])\n",
        "\n",
        "# Reading users file\n",
        "users = pd.read_csv('users.csv', sep='\\t', encoding='latin-1', usecols=['user_id', 'gender', 'zipcode', 'age_desc', 'occ_desc'])\n",
        "\n",
        "# Reading movies file\n",
        "movies = pd.read_csv('movie_dataset.csv')\n",
        "movies = movies.rename(columns={\"id\": \"movie_id\", \"genres\": \"genres\",\"title\":\"title\"})\n",
        "movies = movies[['movie_id','genres','title']]"
      ],
      "execution_count": 0,
      "outputs": []
    },
    {
      "cell_type": "code",
      "metadata": {
        "id": "VNuJP0LsohtP",
        "colab_type": "code",
        "colab": {}
      },
      "source": [
        "n_users = ratings.user_id.unique().shape[0]\n",
        "n_movies = ratings.movie_id.unique().shape[0]"
      ],
      "execution_count": 0,
      "outputs": []
    },
    {
      "cell_type": "code",
      "metadata": {
        "id": "9-dMWCYfomUc",
        "colab_type": "code",
        "colab": {}
      },
      "source": [
        "Ratings = ratings.pivot(index = 'user_id', columns ='movie_id', values = 'rating').fillna(0)"
      ],
      "execution_count": 0,
      "outputs": []
    },
    {
      "cell_type": "code",
      "metadata": {
        "id": "FzGF5RufoqbP",
        "colab_type": "code",
        "outputId": "90262ee4-6a51-4d38-bc71-bf1a382e05f4",
        "colab": {
          "base_uri": "https://localhost:8080/",
          "height": 71
        }
      },
      "source": [
        "R = Ratings.as_matrix()\n",
        "user_ratings_mean = np.mean(R, axis = 1)\n",
        "Ratings_demeaned = R - user_ratings_mean.reshape(-1, 1)"
      ],
      "execution_count": 0,
      "outputs": [
        {
          "output_type": "stream",
          "text": [
            "/usr/local/lib/python3.6/dist-packages/ipykernel_launcher.py:1: FutureWarning: Method .as_matrix will be removed in a future version. Use .values instead.\n",
            "  \"\"\"Entry point for launching an IPython kernel.\n"
          ],
          "name": "stderr"
        }
      ]
    },
    {
      "cell_type": "code",
      "metadata": {
        "id": "Io_Lzi2notHJ",
        "colab_type": "code",
        "colab": {}
      },
      "source": [
        "sparsity = round(1.0 - len(ratings) / float(n_users * n_movies), 3)"
      ],
      "execution_count": 0,
      "outputs": []
    },
    {
      "cell_type": "code",
      "metadata": {
        "id": "44wn4dP5ovTy",
        "colab_type": "code",
        "colab": {}
      },
      "source": [
        "from scipy.sparse.linalg import svds\n",
        "U, sigma, Vt = svds(Ratings_demeaned, k = 50)"
      ],
      "execution_count": 0,
      "outputs": []
    },
    {
      "cell_type": "code",
      "metadata": {
        "id": "cIP-oCvboxkx",
        "colab_type": "code",
        "colab": {}
      },
      "source": [
        "sigma = np.diag(sigma)"
      ],
      "execution_count": 0,
      "outputs": []
    },
    {
      "cell_type": "code",
      "metadata": {
        "id": "Pm_CaZbVozc1",
        "colab_type": "code",
        "colab": {}
      },
      "source": [
        "all_user_predicted_ratings = np.dot(np.dot(U, sigma), Vt) + user_ratings_mean.reshape(-1, 1)"
      ],
      "execution_count": 0,
      "outputs": []
    },
    {
      "cell_type": "code",
      "metadata": {
        "id": "cppRW-Z5o1lP",
        "colab_type": "code",
        "outputId": "0d08e46d-1460-417f-e2f7-697da9daffaf",
        "colab": {
          "base_uri": "https://localhost:8080/",
          "height": 253
        }
      },
      "source": [
        "preds = pd.DataFrame(all_user_predicted_ratings, columns = Ratings.columns)\n",
        "preds.head()"
      ],
      "execution_count": 0,
      "outputs": [
        {
          "output_type": "execute_result",
          "data": {
            "text/html": [
              "<div>\n",
              "<style scoped>\n",
              "    .dataframe tbody tr th:only-of-type {\n",
              "        vertical-align: middle;\n",
              "    }\n",
              "\n",
              "    .dataframe tbody tr th {\n",
              "        vertical-align: top;\n",
              "    }\n",
              "\n",
              "    .dataframe thead th {\n",
              "        text-align: right;\n",
              "    }\n",
              "</style>\n",
              "<table border=\"1\" class=\"dataframe\">\n",
              "  <thead>\n",
              "    <tr style=\"text-align: right;\">\n",
              "      <th>movie_id</th>\n",
              "      <th>1</th>\n",
              "      <th>2</th>\n",
              "      <th>3</th>\n",
              "      <th>4</th>\n",
              "      <th>5</th>\n",
              "      <th>6</th>\n",
              "      <th>7</th>\n",
              "      <th>8</th>\n",
              "      <th>9</th>\n",
              "      <th>10</th>\n",
              "      <th>11</th>\n",
              "      <th>12</th>\n",
              "      <th>13</th>\n",
              "      <th>14</th>\n",
              "      <th>15</th>\n",
              "      <th>16</th>\n",
              "      <th>17</th>\n",
              "      <th>18</th>\n",
              "      <th>19</th>\n",
              "      <th>20</th>\n",
              "      <th>21</th>\n",
              "      <th>22</th>\n",
              "      <th>23</th>\n",
              "      <th>24</th>\n",
              "      <th>25</th>\n",
              "      <th>26</th>\n",
              "      <th>27</th>\n",
              "      <th>28</th>\n",
              "      <th>29</th>\n",
              "      <th>30</th>\n",
              "      <th>31</th>\n",
              "      <th>32</th>\n",
              "      <th>33</th>\n",
              "      <th>34</th>\n",
              "      <th>35</th>\n",
              "      <th>36</th>\n",
              "      <th>37</th>\n",
              "      <th>38</th>\n",
              "      <th>39</th>\n",
              "      <th>40</th>\n",
              "      <th>...</th>\n",
              "      <th>3913</th>\n",
              "      <th>3914</th>\n",
              "      <th>3915</th>\n",
              "      <th>3916</th>\n",
              "      <th>3917</th>\n",
              "      <th>3918</th>\n",
              "      <th>3919</th>\n",
              "      <th>3920</th>\n",
              "      <th>3921</th>\n",
              "      <th>3922</th>\n",
              "      <th>3923</th>\n",
              "      <th>3924</th>\n",
              "      <th>3925</th>\n",
              "      <th>3926</th>\n",
              "      <th>3927</th>\n",
              "      <th>3928</th>\n",
              "      <th>3929</th>\n",
              "      <th>3930</th>\n",
              "      <th>3931</th>\n",
              "      <th>3932</th>\n",
              "      <th>3933</th>\n",
              "      <th>3934</th>\n",
              "      <th>3935</th>\n",
              "      <th>3936</th>\n",
              "      <th>3937</th>\n",
              "      <th>3938</th>\n",
              "      <th>3939</th>\n",
              "      <th>3940</th>\n",
              "      <th>3941</th>\n",
              "      <th>3942</th>\n",
              "      <th>3943</th>\n",
              "      <th>3944</th>\n",
              "      <th>3945</th>\n",
              "      <th>3946</th>\n",
              "      <th>3947</th>\n",
              "      <th>3948</th>\n",
              "      <th>3949</th>\n",
              "      <th>3950</th>\n",
              "      <th>3951</th>\n",
              "      <th>3952</th>\n",
              "    </tr>\n",
              "  </thead>\n",
              "  <tbody>\n",
              "    <tr>\n",
              "      <th>0</th>\n",
              "      <td>4.288861</td>\n",
              "      <td>0.143055</td>\n",
              "      <td>-0.195080</td>\n",
              "      <td>-0.018843</td>\n",
              "      <td>0.012232</td>\n",
              "      <td>-0.176604</td>\n",
              "      <td>-0.074120</td>\n",
              "      <td>0.141358</td>\n",
              "      <td>-0.059553</td>\n",
              "      <td>-0.195950</td>\n",
              "      <td>0.512867</td>\n",
              "      <td>-0.089172</td>\n",
              "      <td>0.310181</td>\n",
              "      <td>-0.002005</td>\n",
              "      <td>-0.052401</td>\n",
              "      <td>-0.189827</td>\n",
              "      <td>0.238360</td>\n",
              "      <td>0.006466</td>\n",
              "      <td>-0.099315</td>\n",
              "      <td>-0.069682</td>\n",
              "      <td>-0.321492</td>\n",
              "      <td>0.111577</td>\n",
              "      <td>0.034795</td>\n",
              "      <td>0.320576</td>\n",
              "      <td>-0.118217</td>\n",
              "      <td>-0.012647</td>\n",
              "      <td>0.065573</td>\n",
              "      <td>-0.098318</td>\n",
              "      <td>0.064081</td>\n",
              "      <td>-0.005914</td>\n",
              "      <td>0.091936</td>\n",
              "      <td>0.180563</td>\n",
              "      <td>-0.009566</td>\n",
              "      <td>2.641693</td>\n",
              "      <td>-0.012495</td>\n",
              "      <td>0.765179</td>\n",
              "      <td>0.019784</td>\n",
              "      <td>0.002917</td>\n",
              "      <td>0.053079</td>\n",
              "      <td>0.014856</td>\n",
              "      <td>...</td>\n",
              "      <td>0.018810</td>\n",
              "      <td>-0.018782</td>\n",
              "      <td>0.022249</td>\n",
              "      <td>0.227852</td>\n",
              "      <td>-0.067653</td>\n",
              "      <td>-0.046039</td>\n",
              "      <td>-0.023574</td>\n",
              "      <td>-0.019405</td>\n",
              "      <td>-0.005116</td>\n",
              "      <td>-0.032921</td>\n",
              "      <td>-0.008259</td>\n",
              "      <td>-0.019157</td>\n",
              "      <td>0.007527</td>\n",
              "      <td>-0.008687</td>\n",
              "      <td>-0.025630</td>\n",
              "      <td>-0.013563</td>\n",
              "      <td>0.015240</td>\n",
              "      <td>-0.044665</td>\n",
              "      <td>-0.009568</td>\n",
              "      <td>-0.043549</td>\n",
              "      <td>-0.003131</td>\n",
              "      <td>-0.008221</td>\n",
              "      <td>-0.005948</td>\n",
              "      <td>0.031885</td>\n",
              "      <td>-0.003424</td>\n",
              "      <td>-0.001159</td>\n",
              "      <td>-0.002124</td>\n",
              "      <td>-0.002827</td>\n",
              "      <td>0.010393</td>\n",
              "      <td>-0.001068</td>\n",
              "      <td>0.027807</td>\n",
              "      <td>0.001640</td>\n",
              "      <td>0.026395</td>\n",
              "      <td>-0.022024</td>\n",
              "      <td>-0.085415</td>\n",
              "      <td>0.403529</td>\n",
              "      <td>0.105579</td>\n",
              "      <td>0.031912</td>\n",
              "      <td>0.050450</td>\n",
              "      <td>0.088910</td>\n",
              "    </tr>\n",
              "    <tr>\n",
              "      <th>1</th>\n",
              "      <td>0.744716</td>\n",
              "      <td>0.169659</td>\n",
              "      <td>0.335418</td>\n",
              "      <td>0.000758</td>\n",
              "      <td>0.022475</td>\n",
              "      <td>1.353050</td>\n",
              "      <td>0.051426</td>\n",
              "      <td>0.071258</td>\n",
              "      <td>0.161601</td>\n",
              "      <td>1.567246</td>\n",
              "      <td>0.772656</td>\n",
              "      <td>0.046179</td>\n",
              "      <td>-0.054562</td>\n",
              "      <td>0.042344</td>\n",
              "      <td>0.048390</td>\n",
              "      <td>0.347313</td>\n",
              "      <td>1.074905</td>\n",
              "      <td>-0.099782</td>\n",
              "      <td>0.008163</td>\n",
              "      <td>0.250869</td>\n",
              "      <td>2.186638</td>\n",
              "      <td>0.018789</td>\n",
              "      <td>-0.002199</td>\n",
              "      <td>0.218934</td>\n",
              "      <td>0.824475</td>\n",
              "      <td>0.139274</td>\n",
              "      <td>-0.007135</td>\n",
              "      <td>0.053071</td>\n",
              "      <td>-0.156952</td>\n",
              "      <td>0.044739</td>\n",
              "      <td>-0.002960</td>\n",
              "      <td>0.453298</td>\n",
              "      <td>-0.007484</td>\n",
              "      <td>0.920325</td>\n",
              "      <td>0.016566</td>\n",
              "      <td>1.335129</td>\n",
              "      <td>-0.015066</td>\n",
              "      <td>-0.045602</td>\n",
              "      <td>0.034649</td>\n",
              "      <td>0.122010</td>\n",
              "      <td>...</td>\n",
              "      <td>-0.042363</td>\n",
              "      <td>-0.137822</td>\n",
              "      <td>-0.112071</td>\n",
              "      <td>0.380783</td>\n",
              "      <td>-0.036273</td>\n",
              "      <td>-0.016174</td>\n",
              "      <td>0.002920</td>\n",
              "      <td>-0.148021</td>\n",
              "      <td>-0.017614</td>\n",
              "      <td>-0.033474</td>\n",
              "      <td>0.086133</td>\n",
              "      <td>0.008153</td>\n",
              "      <td>-0.126819</td>\n",
              "      <td>0.109208</td>\n",
              "      <td>0.001798</td>\n",
              "      <td>0.151866</td>\n",
              "      <td>0.014118</td>\n",
              "      <td>0.032897</td>\n",
              "      <td>0.005764</td>\n",
              "      <td>0.042259</td>\n",
              "      <td>0.022404</td>\n",
              "      <td>0.003260</td>\n",
              "      <td>0.010556</td>\n",
              "      <td>0.137181</td>\n",
              "      <td>-0.042184</td>\n",
              "      <td>0.006759</td>\n",
              "      <td>-0.005789</td>\n",
              "      <td>0.000340</td>\n",
              "      <td>0.002024</td>\n",
              "      <td>0.016013</td>\n",
              "      <td>-0.056502</td>\n",
              "      <td>-0.013733</td>\n",
              "      <td>-0.010580</td>\n",
              "      <td>0.062576</td>\n",
              "      <td>-0.016248</td>\n",
              "      <td>0.155790</td>\n",
              "      <td>-0.418737</td>\n",
              "      <td>-0.101102</td>\n",
              "      <td>-0.054098</td>\n",
              "      <td>-0.140188</td>\n",
              "    </tr>\n",
              "    <tr>\n",
              "      <th>2</th>\n",
              "      <td>1.818824</td>\n",
              "      <td>0.456136</td>\n",
              "      <td>0.090978</td>\n",
              "      <td>-0.043037</td>\n",
              "      <td>-0.025694</td>\n",
              "      <td>-0.158617</td>\n",
              "      <td>-0.131778</td>\n",
              "      <td>0.098977</td>\n",
              "      <td>0.030551</td>\n",
              "      <td>0.735470</td>\n",
              "      <td>-0.023476</td>\n",
              "      <td>0.034796</td>\n",
              "      <td>0.065942</td>\n",
              "      <td>0.008661</td>\n",
              "      <td>0.110348</td>\n",
              "      <td>-0.002952</td>\n",
              "      <td>-0.122061</td>\n",
              "      <td>0.063974</td>\n",
              "      <td>0.061033</td>\n",
              "      <td>0.081799</td>\n",
              "      <td>0.329471</td>\n",
              "      <td>0.149579</td>\n",
              "      <td>0.095352</td>\n",
              "      <td>-0.161493</td>\n",
              "      <td>0.022545</td>\n",
              "      <td>-0.009284</td>\n",
              "      <td>-0.002677</td>\n",
              "      <td>-0.142710</td>\n",
              "      <td>0.012345</td>\n",
              "      <td>-0.085331</td>\n",
              "      <td>0.076139</td>\n",
              "      <td>-0.355795</td>\n",
              "      <td>-0.008579</td>\n",
              "      <td>1.046871</td>\n",
              "      <td>-0.088946</td>\n",
              "      <td>0.383583</td>\n",
              "      <td>-0.018144</td>\n",
              "      <td>-0.038618</td>\n",
              "      <td>0.113984</td>\n",
              "      <td>0.006942</td>\n",
              "      <td>...</td>\n",
              "      <td>0.007233</td>\n",
              "      <td>-0.047221</td>\n",
              "      <td>0.066474</td>\n",
              "      <td>-0.179455</td>\n",
              "      <td>0.097428</td>\n",
              "      <td>0.034113</td>\n",
              "      <td>0.008098</td>\n",
              "      <td>-0.024784</td>\n",
              "      <td>-0.012749</td>\n",
              "      <td>-0.007394</td>\n",
              "      <td>-0.017220</td>\n",
              "      <td>0.004719</td>\n",
              "      <td>0.113348</td>\n",
              "      <td>-0.074943</td>\n",
              "      <td>-0.145795</td>\n",
              "      <td>0.128619</td>\n",
              "      <td>0.112567</td>\n",
              "      <td>0.045500</td>\n",
              "      <td>-0.018027</td>\n",
              "      <td>-0.058946</td>\n",
              "      <td>-0.002770</td>\n",
              "      <td>-0.035276</td>\n",
              "      <td>-0.008085</td>\n",
              "      <td>0.132182</td>\n",
              "      <td>-0.017005</td>\n",
              "      <td>0.014383</td>\n",
              "      <td>0.006598</td>\n",
              "      <td>-0.006217</td>\n",
              "      <td>-0.000342</td>\n",
              "      <td>0.000518</td>\n",
              "      <td>0.040481</td>\n",
              "      <td>-0.005301</td>\n",
              "      <td>0.012832</td>\n",
              "      <td>0.029349</td>\n",
              "      <td>0.020866</td>\n",
              "      <td>0.121532</td>\n",
              "      <td>0.076205</td>\n",
              "      <td>0.012345</td>\n",
              "      <td>0.015148</td>\n",
              "      <td>-0.109956</td>\n",
              "    </tr>\n",
              "    <tr>\n",
              "      <th>3</th>\n",
              "      <td>0.408057</td>\n",
              "      <td>-0.072960</td>\n",
              "      <td>0.039642</td>\n",
              "      <td>0.089363</td>\n",
              "      <td>0.041950</td>\n",
              "      <td>0.237753</td>\n",
              "      <td>-0.049426</td>\n",
              "      <td>0.009467</td>\n",
              "      <td>0.045469</td>\n",
              "      <td>-0.111370</td>\n",
              "      <td>-0.375831</td>\n",
              "      <td>0.068658</td>\n",
              "      <td>0.011199</td>\n",
              "      <td>0.069699</td>\n",
              "      <td>-0.037529</td>\n",
              "      <td>-0.238788</td>\n",
              "      <td>0.060607</td>\n",
              "      <td>-0.043418</td>\n",
              "      <td>0.053152</td>\n",
              "      <td>0.078237</td>\n",
              "      <td>0.357185</td>\n",
              "      <td>-0.096005</td>\n",
              "      <td>-0.028243</td>\n",
              "      <td>-0.067169</td>\n",
              "      <td>0.246164</td>\n",
              "      <td>-0.020379</td>\n",
              "      <td>0.034461</td>\n",
              "      <td>-0.022225</td>\n",
              "      <td>-0.012327</td>\n",
              "      <td>0.009182</td>\n",
              "      <td>0.014730</td>\n",
              "      <td>0.215893</td>\n",
              "      <td>-0.019687</td>\n",
              "      <td>-0.293933</td>\n",
              "      <td>-0.011511</td>\n",
              "      <td>0.145326</td>\n",
              "      <td>-0.029213</td>\n",
              "      <td>0.030029</td>\n",
              "      <td>-0.045409</td>\n",
              "      <td>-0.030684</td>\n",
              "      <td>...</td>\n",
              "      <td>-0.015077</td>\n",
              "      <td>-0.030208</td>\n",
              "      <td>0.028357</td>\n",
              "      <td>-0.072643</td>\n",
              "      <td>-0.135727</td>\n",
              "      <td>-0.053318</td>\n",
              "      <td>-0.012962</td>\n",
              "      <td>-0.054465</td>\n",
              "      <td>0.005870</td>\n",
              "      <td>-0.018048</td>\n",
              "      <td>-0.006836</td>\n",
              "      <td>-0.008222</td>\n",
              "      <td>-0.027214</td>\n",
              "      <td>-0.071677</td>\n",
              "      <td>-0.094072</td>\n",
              "      <td>-0.010745</td>\n",
              "      <td>-0.103191</td>\n",
              "      <td>-0.031297</td>\n",
              "      <td>-0.023920</td>\n",
              "      <td>-0.015053</td>\n",
              "      <td>-0.017914</td>\n",
              "      <td>-0.029561</td>\n",
              "      <td>-0.024299</td>\n",
              "      <td>-0.057678</td>\n",
              "      <td>-0.111450</td>\n",
              "      <td>-0.015473</td>\n",
              "      <td>-0.007123</td>\n",
              "      <td>-0.007416</td>\n",
              "      <td>-0.011508</td>\n",
              "      <td>-0.010038</td>\n",
              "      <td>0.008571</td>\n",
              "      <td>-0.005425</td>\n",
              "      <td>-0.008500</td>\n",
              "      <td>-0.003417</td>\n",
              "      <td>-0.083982</td>\n",
              "      <td>0.094512</td>\n",
              "      <td>0.057557</td>\n",
              "      <td>-0.026050</td>\n",
              "      <td>0.014841</td>\n",
              "      <td>-0.034224</td>\n",
              "    </tr>\n",
              "    <tr>\n",
              "      <th>4</th>\n",
              "      <td>1.574272</td>\n",
              "      <td>0.021239</td>\n",
              "      <td>-0.051300</td>\n",
              "      <td>0.246884</td>\n",
              "      <td>-0.032406</td>\n",
              "      <td>1.552281</td>\n",
              "      <td>-0.199630</td>\n",
              "      <td>-0.014920</td>\n",
              "      <td>-0.060498</td>\n",
              "      <td>0.450512</td>\n",
              "      <td>-0.251178</td>\n",
              "      <td>0.012337</td>\n",
              "      <td>-0.084051</td>\n",
              "      <td>0.258937</td>\n",
              "      <td>0.016570</td>\n",
              "      <td>0.980536</td>\n",
              "      <td>1.267869</td>\n",
              "      <td>0.275619</td>\n",
              "      <td>-0.008139</td>\n",
              "      <td>-0.038832</td>\n",
              "      <td>1.849627</td>\n",
              "      <td>0.107649</td>\n",
              "      <td>-0.168424</td>\n",
              "      <td>0.386541</td>\n",
              "      <td>1.790343</td>\n",
              "      <td>0.192379</td>\n",
              "      <td>-0.054356</td>\n",
              "      <td>0.267566</td>\n",
              "      <td>1.027817</td>\n",
              "      <td>0.374665</td>\n",
              "      <td>-0.010445</td>\n",
              "      <td>1.947980</td>\n",
              "      <td>0.017468</td>\n",
              "      <td>2.784035</td>\n",
              "      <td>0.274397</td>\n",
              "      <td>1.422393</td>\n",
              "      <td>0.040553</td>\n",
              "      <td>0.022926</td>\n",
              "      <td>1.345800</td>\n",
              "      <td>0.104507</td>\n",
              "      <td>...</td>\n",
              "      <td>0.075475</td>\n",
              "      <td>0.330767</td>\n",
              "      <td>0.150470</td>\n",
              "      <td>-0.261636</td>\n",
              "      <td>0.085163</td>\n",
              "      <td>-0.014229</td>\n",
              "      <td>-0.029247</td>\n",
              "      <td>0.124172</td>\n",
              "      <td>0.092875</td>\n",
              "      <td>0.061895</td>\n",
              "      <td>0.034757</td>\n",
              "      <td>0.054386</td>\n",
              "      <td>0.047055</td>\n",
              "      <td>0.048403</td>\n",
              "      <td>0.082926</td>\n",
              "      <td>0.129035</td>\n",
              "      <td>-0.174646</td>\n",
              "      <td>0.102727</td>\n",
              "      <td>0.024732</td>\n",
              "      <td>0.047280</td>\n",
              "      <td>0.017818</td>\n",
              "      <td>0.041451</td>\n",
              "      <td>0.041595</td>\n",
              "      <td>-0.007138</td>\n",
              "      <td>-0.080448</td>\n",
              "      <td>0.018639</td>\n",
              "      <td>0.034068</td>\n",
              "      <td>0.026941</td>\n",
              "      <td>0.035905</td>\n",
              "      <td>0.024459</td>\n",
              "      <td>0.110151</td>\n",
              "      <td>0.046010</td>\n",
              "      <td>0.006934</td>\n",
              "      <td>-0.015940</td>\n",
              "      <td>-0.050080</td>\n",
              "      <td>-0.052539</td>\n",
              "      <td>0.507189</td>\n",
              "      <td>0.033830</td>\n",
              "      <td>0.125706</td>\n",
              "      <td>0.199244</td>\n",
              "    </tr>\n",
              "  </tbody>\n",
              "</table>\n",
              "<p>5 rows × 3706 columns</p>\n",
              "</div>"
            ],
            "text/plain": [
              "movie_id      1         2         3     ...      3950      3951      3952\n",
              "0         4.288861  0.143055 -0.195080  ...  0.031912  0.050450  0.088910\n",
              "1         0.744716  0.169659  0.335418  ... -0.101102 -0.054098 -0.140188\n",
              "2         1.818824  0.456136  0.090978  ...  0.012345  0.015148 -0.109956\n",
              "3         0.408057 -0.072960  0.039642  ... -0.026050  0.014841 -0.034224\n",
              "4         1.574272  0.021239 -0.051300  ...  0.033830  0.125706  0.199244\n",
              "\n",
              "[5 rows x 3706 columns]"
            ]
          },
          "metadata": {
            "tags": []
          },
          "execution_count": 12
        }
      ]
    },
    {
      "cell_type": "code",
      "metadata": {
        "id": "Yx4_ikTzo3oI",
        "colab_type": "code",
        "colab": {}
      },
      "source": [
        "def recommend_movies(predictions, userID, movies, original_ratings, num_recommendations):\n",
        "    \n",
        "    # Get and sort the user's predictions\n",
        "    user_row_number = userID - 1 # User ID starts at 1, not 0\n",
        "    sorted_user_predictions = preds.iloc[user_row_number].sort_values(ascending=False) # User ID starts at 1\n",
        "    \n",
        "    # Get the user's data and merge in the movie information.\n",
        "    user_data = original_ratings[original_ratings.user_id == (userID)]\n",
        "    user_full = (user_data.merge(movies, how = 'left', left_on = 'movie_id', right_on = 'movie_id').\n",
        "                     sort_values(['rating'], ascending=False)\n",
        "                 )\n",
        "\n",
        "    #print 'User {0} has already rated {1} movies.'.format(userID, user_full.shape[0])\n",
        "    #print 'Recommending highest {0} predicted ratings movies not already rated.'.format(num_recommendations)\n",
        "    \n",
        "    # Recommend the highest predicted rating movies that the user hasn't seen yet.\n",
        "    recommendations = (movies[~movies['movie_id'].isin(user_full['movie_id'])].\n",
        "         merge(pd.DataFrame(sorted_user_predictions).reset_index(), how = 'left',\n",
        "               left_on = 'movie_id',\n",
        "               right_on = 'movie_id').\n",
        "         rename(columns = {user_row_number: 'Predictions'}).\n",
        "         sort_values('Predictions', ascending = False).\n",
        "                       iloc[:num_recommendations, :-1]\n",
        "                      )\n",
        "\n",
        "    return user_full, recommendations"
      ],
      "execution_count": 0,
      "outputs": []
    },
    {
      "cell_type": "code",
      "metadata": {
        "id": "czYpNJSPo6Q9",
        "colab_type": "code",
        "colab": {}
      },
      "source": [
        "already_rated, predictions = recommend_movies(preds, 1310, movies, ratings, 20)"
      ],
      "execution_count": 0,
      "outputs": []
    },
    {
      "cell_type": "code",
      "metadata": {
        "id": "13Zg8mfEo8eT",
        "colab_type": "code",
        "outputId": "5350b2a6-257a-47f7-9357-98829bfecf78",
        "colab": {
          "base_uri": "https://localhost:8080/",
          "height": 359
        }
      },
      "source": [
        "# Top 20 movies that User 1310 has rated \n",
        "already_rated.head(50).dropna()"
      ],
      "execution_count": 0,
      "outputs": [
        {
          "output_type": "execute_result",
          "data": {
            "text/html": [
              "<div>\n",
              "<style scoped>\n",
              "    .dataframe tbody tr th:only-of-type {\n",
              "        vertical-align: middle;\n",
              "    }\n",
              "\n",
              "    .dataframe tbody tr th {\n",
              "        vertical-align: top;\n",
              "    }\n",
              "\n",
              "    .dataframe thead th {\n",
              "        text-align: right;\n",
              "    }\n",
              "</style>\n",
              "<table border=\"1\" class=\"dataframe\">\n",
              "  <thead>\n",
              "    <tr style=\"text-align: right;\">\n",
              "      <th></th>\n",
              "      <th>user_id</th>\n",
              "      <th>movie_id</th>\n",
              "      <th>rating</th>\n",
              "      <th>timestamp</th>\n",
              "      <th>genres</th>\n",
              "      <th>title</th>\n",
              "    </tr>\n",
              "  </thead>\n",
              "  <tbody>\n",
              "    <tr>\n",
              "      <th>6</th>\n",
              "      <td>1310</td>\n",
              "      <td>2620</td>\n",
              "      <td>5</td>\n",
              "      <td>974781573</td>\n",
              "      <td>['action', 'comedy', 'crime']</td>\n",
              "      <td>Armed and Dangerous</td>\n",
              "    </tr>\n",
              "    <tr>\n",
              "      <th>7</th>\n",
              "      <td>1310</td>\n",
              "      <td>3683</td>\n",
              "      <td>5</td>\n",
              "      <td>974781935</td>\n",
              "      <td>['war', 'drama', 'history']</td>\n",
              "      <td>Flags of Our Fathers</td>\n",
              "    </tr>\n",
              "    <tr>\n",
              "      <th>12</th>\n",
              "      <td>1310</td>\n",
              "      <td>3101</td>\n",
              "      <td>4</td>\n",
              "      <td>974781573</td>\n",
              "      <td>['action', 'comedy', 'crime']</td>\n",
              "      <td>I Love You to Death</td>\n",
              "    </tr>\n",
              "    <tr>\n",
              "      <th>20</th>\n",
              "      <td>1310</td>\n",
              "      <td>2000</td>\n",
              "      <td>4</td>\n",
              "      <td>974781892</td>\n",
              "      <td>['adventure', 'drama', 'history']</td>\n",
              "      <td>Aguirre: The Wrath of God</td>\n",
              "    </tr>\n",
              "    <tr>\n",
              "      <th>18</th>\n",
              "      <td>1310</td>\n",
              "      <td>3526</td>\n",
              "      <td>4</td>\n",
              "      <td>974781892</td>\n",
              "      <td>['drama']</td>\n",
              "      <td>Frances</td>\n",
              "    </tr>\n",
              "    <tr>\n",
              "      <th>13</th>\n",
              "      <td>1310</td>\n",
              "      <td>3111</td>\n",
              "      <td>4</td>\n",
              "      <td>974782001</td>\n",
              "      <td>['drama', 'music', 'romance']</td>\n",
              "      <td>A Star Is Born</td>\n",
              "    </tr>\n",
              "    <tr>\n",
              "      <th>16</th>\n",
              "      <td>1310</td>\n",
              "      <td>144</td>\n",
              "      <td>3</td>\n",
              "      <td>974781573</td>\n",
              "      <td>['drama', 'fantasy', 'romance']</td>\n",
              "      <td>Wings of Desire</td>\n",
              "    </tr>\n",
              "    <tr>\n",
              "      <th>0</th>\n",
              "      <td>1310</td>\n",
              "      <td>2988</td>\n",
              "      <td>3</td>\n",
              "      <td>974781935</td>\n",
              "      <td>['drama', 'romance']</td>\n",
              "      <td>The Harrad Experiment</td>\n",
              "    </tr>\n",
              "    <tr>\n",
              "      <th>14</th>\n",
              "      <td>1310</td>\n",
              "      <td>2313</td>\n",
              "      <td>2</td>\n",
              "      <td>974781839</td>\n",
              "      <td>['comedy', 'drama', 'romance']</td>\n",
              "      <td>Prime</td>\n",
              "    </tr>\n",
              "    <tr>\n",
              "      <th>22</th>\n",
              "      <td>1310</td>\n",
              "      <td>1090</td>\n",
              "      <td>2</td>\n",
              "      <td>974781839</td>\n",
              "      <td>['thriller', 'sciencefiction', 'mystery']</td>\n",
              "      <td>The Thirteenth Floor</td>\n",
              "    </tr>\n",
              "  </tbody>\n",
              "</table>\n",
              "</div>"
            ],
            "text/plain": [
              "    user_id  ...                      title\n",
              "6      1310  ...        Armed and Dangerous\n",
              "7      1310  ...       Flags of Our Fathers\n",
              "12     1310  ...        I Love You to Death\n",
              "20     1310  ...  Aguirre: The Wrath of God\n",
              "18     1310  ...                    Frances\n",
              "13     1310  ...             A Star Is Born\n",
              "16     1310  ...            Wings of Desire\n",
              "0      1310  ...      The Harrad Experiment\n",
              "14     1310  ...                      Prime\n",
              "22     1310  ...       The Thirteenth Floor\n",
              "\n",
              "[10 rows x 6 columns]"
            ]
          },
          "metadata": {
            "tags": []
          },
          "execution_count": 16
        }
      ]
    },
    {
      "cell_type": "code",
      "metadata": {
        "id": "a2O2M1MWo_JB",
        "colab_type": "code",
        "outputId": "994a2af8-0a11-4203-f85d-6a12bf10ffb9",
        "colab": {
          "base_uri": "https://localhost:8080/",
          "height": 793
        }
      },
      "source": [
        "ratings[ratings['user_id'] == 1310]"
      ],
      "execution_count": 0,
      "outputs": [
        {
          "output_type": "execute_result",
          "data": {
            "text/html": [
              "<div>\n",
              "<style scoped>\n",
              "    .dataframe tbody tr th:only-of-type {\n",
              "        vertical-align: middle;\n",
              "    }\n",
              "\n",
              "    .dataframe tbody tr th {\n",
              "        vertical-align: top;\n",
              "    }\n",
              "\n",
              "    .dataframe thead th {\n",
              "        text-align: right;\n",
              "    }\n",
              "</style>\n",
              "<table border=\"1\" class=\"dataframe\">\n",
              "  <thead>\n",
              "    <tr style=\"text-align: right;\">\n",
              "      <th></th>\n",
              "      <th>user_id</th>\n",
              "      <th>movie_id</th>\n",
              "      <th>rating</th>\n",
              "      <th>timestamp</th>\n",
              "    </tr>\n",
              "  </thead>\n",
              "  <tbody>\n",
              "    <tr>\n",
              "      <th>215928</th>\n",
              "      <td>1310</td>\n",
              "      <td>2988</td>\n",
              "      <td>3</td>\n",
              "      <td>974781935</td>\n",
              "    </tr>\n",
              "    <tr>\n",
              "      <th>215929</th>\n",
              "      <td>1310</td>\n",
              "      <td>1293</td>\n",
              "      <td>5</td>\n",
              "      <td>974781839</td>\n",
              "    </tr>\n",
              "    <tr>\n",
              "      <th>215930</th>\n",
              "      <td>1310</td>\n",
              "      <td>1295</td>\n",
              "      <td>2</td>\n",
              "      <td>974782001</td>\n",
              "    </tr>\n",
              "    <tr>\n",
              "      <th>215931</th>\n",
              "      <td>1310</td>\n",
              "      <td>1299</td>\n",
              "      <td>4</td>\n",
              "      <td>974781701</td>\n",
              "    </tr>\n",
              "    <tr>\n",
              "      <th>215932</th>\n",
              "      <td>1310</td>\n",
              "      <td>2243</td>\n",
              "      <td>4</td>\n",
              "      <td>974782001</td>\n",
              "    </tr>\n",
              "    <tr>\n",
              "      <th>215933</th>\n",
              "      <td>1310</td>\n",
              "      <td>2248</td>\n",
              "      <td>5</td>\n",
              "      <td>974781573</td>\n",
              "    </tr>\n",
              "    <tr>\n",
              "      <th>215934</th>\n",
              "      <td>1310</td>\n",
              "      <td>2620</td>\n",
              "      <td>5</td>\n",
              "      <td>974781573</td>\n",
              "    </tr>\n",
              "    <tr>\n",
              "      <th>215935</th>\n",
              "      <td>1310</td>\n",
              "      <td>3683</td>\n",
              "      <td>5</td>\n",
              "      <td>974781935</td>\n",
              "    </tr>\n",
              "    <tr>\n",
              "      <th>215936</th>\n",
              "      <td>1310</td>\n",
              "      <td>3685</td>\n",
              "      <td>4</td>\n",
              "      <td>974781935</td>\n",
              "    </tr>\n",
              "    <tr>\n",
              "      <th>215937</th>\n",
              "      <td>1310</td>\n",
              "      <td>1185</td>\n",
              "      <td>4</td>\n",
              "      <td>974781839</td>\n",
              "    </tr>\n",
              "    <tr>\n",
              "      <th>215938</th>\n",
              "      <td>1310</td>\n",
              "      <td>1196</td>\n",
              "      <td>4</td>\n",
              "      <td>974781701</td>\n",
              "    </tr>\n",
              "    <tr>\n",
              "      <th>215939</th>\n",
              "      <td>1310</td>\n",
              "      <td>1343</td>\n",
              "      <td>4</td>\n",
              "      <td>974781534</td>\n",
              "    </tr>\n",
              "    <tr>\n",
              "      <th>215940</th>\n",
              "      <td>1310</td>\n",
              "      <td>3101</td>\n",
              "      <td>4</td>\n",
              "      <td>974781573</td>\n",
              "    </tr>\n",
              "    <tr>\n",
              "      <th>215941</th>\n",
              "      <td>1310</td>\n",
              "      <td>3111</td>\n",
              "      <td>4</td>\n",
              "      <td>974782001</td>\n",
              "    </tr>\n",
              "    <tr>\n",
              "      <th>215942</th>\n",
              "      <td>1310</td>\n",
              "      <td>2313</td>\n",
              "      <td>2</td>\n",
              "      <td>974781839</td>\n",
              "    </tr>\n",
              "    <tr>\n",
              "      <th>215943</th>\n",
              "      <td>1310</td>\n",
              "      <td>1704</td>\n",
              "      <td>5</td>\n",
              "      <td>974781573</td>\n",
              "    </tr>\n",
              "    <tr>\n",
              "      <th>215944</th>\n",
              "      <td>1310</td>\n",
              "      <td>144</td>\n",
              "      <td>3</td>\n",
              "      <td>974781573</td>\n",
              "    </tr>\n",
              "    <tr>\n",
              "      <th>215945</th>\n",
              "      <td>1310</td>\n",
              "      <td>3360</td>\n",
              "      <td>4</td>\n",
              "      <td>974781935</td>\n",
              "    </tr>\n",
              "    <tr>\n",
              "      <th>215946</th>\n",
              "      <td>1310</td>\n",
              "      <td>3526</td>\n",
              "      <td>4</td>\n",
              "      <td>974781892</td>\n",
              "    </tr>\n",
              "    <tr>\n",
              "      <th>215947</th>\n",
              "      <td>1310</td>\n",
              "      <td>1960</td>\n",
              "      <td>3</td>\n",
              "      <td>974782001</td>\n",
              "    </tr>\n",
              "    <tr>\n",
              "      <th>215948</th>\n",
              "      <td>1310</td>\n",
              "      <td>2000</td>\n",
              "      <td>4</td>\n",
              "      <td>974781892</td>\n",
              "    </tr>\n",
              "    <tr>\n",
              "      <th>215949</th>\n",
              "      <td>1310</td>\n",
              "      <td>1231</td>\n",
              "      <td>2</td>\n",
              "      <td>974781963</td>\n",
              "    </tr>\n",
              "    <tr>\n",
              "      <th>215950</th>\n",
              "      <td>1310</td>\n",
              "      <td>1090</td>\n",
              "      <td>2</td>\n",
              "      <td>974781839</td>\n",
              "    </tr>\n",
              "    <tr>\n",
              "      <th>215951</th>\n",
              "      <td>1310</td>\n",
              "      <td>1097</td>\n",
              "      <td>4</td>\n",
              "      <td>974781534</td>\n",
              "    </tr>\n",
              "  </tbody>\n",
              "</table>\n",
              "</div>"
            ],
            "text/plain": [
              "        user_id  movie_id  rating  timestamp\n",
              "215928     1310      2988       3  974781935\n",
              "215929     1310      1293       5  974781839\n",
              "215930     1310      1295       2  974782001\n",
              "215931     1310      1299       4  974781701\n",
              "215932     1310      2243       4  974782001\n",
              "215933     1310      2248       5  974781573\n",
              "215934     1310      2620       5  974781573\n",
              "215935     1310      3683       5  974781935\n",
              "215936     1310      3685       4  974781935\n",
              "215937     1310      1185       4  974781839\n",
              "215938     1310      1196       4  974781701\n",
              "215939     1310      1343       4  974781534\n",
              "215940     1310      3101       4  974781573\n",
              "215941     1310      3111       4  974782001\n",
              "215942     1310      2313       2  974781839\n",
              "215943     1310      1704       5  974781573\n",
              "215944     1310       144       3  974781573\n",
              "215945     1310      3360       4  974781935\n",
              "215946     1310      3526       4  974781892\n",
              "215947     1310      1960       3  974782001\n",
              "215948     1310      2000       4  974781892\n",
              "215949     1310      1231       2  974781963\n",
              "215950     1310      1090       2  974781839\n",
              "215951     1310      1097       4  974781534"
            ]
          },
          "metadata": {
            "tags": []
          },
          "execution_count": 15
        }
      ]
    },
    {
      "cell_type": "code",
      "metadata": {
        "id": "ur-C_19cpC2j",
        "colab_type": "code",
        "outputId": "584f55af-bb26-4c31-f593-c1dd1f63b4f6",
        "colab": {
          "base_uri": "https://localhost:8080/",
          "height": 669
        }
      },
      "source": [
        "predictions"
      ],
      "execution_count": 0,
      "outputs": [
        {
          "output_type": "execute_result",
          "data": {
            "text/html": [
              "<div>\n",
              "<style scoped>\n",
              "    .dataframe tbody tr th:only-of-type {\n",
              "        vertical-align: middle;\n",
              "    }\n",
              "\n",
              "    .dataframe tbody tr th {\n",
              "        vertical-align: top;\n",
              "    }\n",
              "\n",
              "    .dataframe thead th {\n",
              "        text-align: right;\n",
              "    }\n",
              "</style>\n",
              "<table border=\"1\" class=\"dataframe\">\n",
              "  <thead>\n",
              "    <tr style=\"text-align: right;\">\n",
              "      <th></th>\n",
              "      <th>movie_id</th>\n",
              "      <th>genres</th>\n",
              "      <th>title</th>\n",
              "    </tr>\n",
              "  </thead>\n",
              "  <tbody>\n",
              "    <tr>\n",
              "      <th>13548</th>\n",
              "      <td>1961</td>\n",
              "      <td>['comedy', 'horror']</td>\n",
              "      <td>My Name Is Bruce</td>\n",
              "    </tr>\n",
              "    <tr>\n",
              "      <th>11546</th>\n",
              "      <td>1246</td>\n",
              "      <td>['drama']</td>\n",
              "      <td>Rocky Balboa</td>\n",
              "    </tr>\n",
              "    <tr>\n",
              "      <th>5297</th>\n",
              "      <td>1957</td>\n",
              "      <td>['drama', 'thriller']</td>\n",
              "      <td>Enough</td>\n",
              "    </tr>\n",
              "    <tr>\n",
              "      <th>2911</th>\n",
              "      <td>2020</td>\n",
              "      <td>['comedy']</td>\n",
              "      <td>The Bachelor</td>\n",
              "    </tr>\n",
              "    <tr>\n",
              "      <th>11581</th>\n",
              "      <td>1259</td>\n",
              "      <td>['drama', 'romance']</td>\n",
              "      <td>Notes on a Scandal</td>\n",
              "    </tr>\n",
              "    <tr>\n",
              "      <th>6089</th>\n",
              "      <td>1956</td>\n",
              "      <td>['mystery', 'drama', 'adventure']</td>\n",
              "      <td>Gerry</td>\n",
              "    </tr>\n",
              "    <tr>\n",
              "      <th>3579</th>\n",
              "      <td>541</td>\n",
              "      <td>['crime', 'drama', 'romance']</td>\n",
              "      <td>The Man with the Golden Arm</td>\n",
              "    </tr>\n",
              "    <tr>\n",
              "      <th>12423</th>\n",
              "      <td>2312</td>\n",
              "      <td>['adventure', 'fantasy', 'action']</td>\n",
              "      <td>In the Name of the King: A Dungeon Siege Tale</td>\n",
              "    </tr>\n",
              "    <tr>\n",
              "      <th>11455</th>\n",
              "      <td>1124</td>\n",
              "      <td>['drama', 'mystery', 'thriller']</td>\n",
              "      <td>The Prestige</td>\n",
              "    </tr>\n",
              "    <tr>\n",
              "      <th>952</th>\n",
              "      <td>260</td>\n",
              "      <td>['action', 'thriller', 'mystery']</td>\n",
              "      <td>The 39 Steps</td>\n",
              "    </tr>\n",
              "    <tr>\n",
              "      <th>4438</th>\n",
              "      <td>3543</td>\n",
              "      <td>['comedy', 'drama']</td>\n",
              "      <td>Bagdad Cafe</td>\n",
              "    </tr>\n",
              "    <tr>\n",
              "      <th>4043</th>\n",
              "      <td>318</td>\n",
              "      <td>['drama', 'thriller']</td>\n",
              "      <td>The Million Dollar Hotel</td>\n",
              "    </tr>\n",
              "    <tr>\n",
              "      <th>1420</th>\n",
              "      <td>1968</td>\n",
              "      <td>['drama', 'comedy', 'romance']</td>\n",
              "      <td>Fools Rush In</td>\n",
              "    </tr>\n",
              "    <tr>\n",
              "      <th>11832</th>\n",
              "      <td>1272</td>\n",
              "      <td>['sciencefiction', 'thriller']</td>\n",
              "      <td>Sunshine</td>\n",
              "    </tr>\n",
              "    <tr>\n",
              "      <th>29863</th>\n",
              "      <td>3699</td>\n",
              "      <td>['mystery', 'crime', 'horror']</td>\n",
              "      <td>Seven Blood-Stained Orchids</td>\n",
              "    </tr>\n",
              "    <tr>\n",
              "      <th>3405</th>\n",
              "      <td>593</td>\n",
              "      <td>['drama', 'sciencefiction', 'adventure']</td>\n",
              "      <td>Solaris</td>\n",
              "    </tr>\n",
              "    <tr>\n",
              "      <th>2219</th>\n",
              "      <td>1955</td>\n",
              "      <td>['drama', 'history']</td>\n",
              "      <td>The Elephant Man</td>\n",
              "    </tr>\n",
              "    <tr>\n",
              "      <th>5520</th>\n",
              "      <td>1958</td>\n",
              "      <td>['comedy', 'thriller', 'music']</td>\n",
              "      <td>8 Women</td>\n",
              "    </tr>\n",
              "    <tr>\n",
              "      <th>7671</th>\n",
              "      <td>3072</td>\n",
              "      <td>['drama', 'horror', 'sciencefiction']</td>\n",
              "      <td>Frankenstein Unbound</td>\n",
              "    </tr>\n",
              "    <tr>\n",
              "      <th>14495</th>\n",
              "      <td>2973</td>\n",
              "      <td>['sciencefiction', 'adventure', 'drama']</td>\n",
              "      <td>Aelita: Queen of Mars</td>\n",
              "    </tr>\n",
              "  </tbody>\n",
              "</table>\n",
              "</div>"
            ],
            "text/plain": [
              "       movie_id  ...                                          title\n",
              "13548      1961  ...                               My Name Is Bruce\n",
              "11546      1246  ...                                   Rocky Balboa\n",
              "5297       1957  ...                                         Enough\n",
              "2911       2020  ...                                   The Bachelor\n",
              "11581      1259  ...                             Notes on a Scandal\n",
              "6089       1956  ...                                          Gerry\n",
              "3579        541  ...                    The Man with the Golden Arm\n",
              "12423      2312  ...  In the Name of the King: A Dungeon Siege Tale\n",
              "11455      1124  ...                                   The Prestige\n",
              "952         260  ...                                   The 39 Steps\n",
              "4438       3543  ...                                    Bagdad Cafe\n",
              "4043        318  ...                       The Million Dollar Hotel\n",
              "1420       1968  ...                                  Fools Rush In\n",
              "11832      1272  ...                                       Sunshine\n",
              "29863      3699  ...                    Seven Blood-Stained Orchids\n",
              "3405        593  ...                                        Solaris\n",
              "2219       1955  ...                               The Elephant Man\n",
              "5520       1958  ...                                        8 Women\n",
              "7671       3072  ...                           Frankenstein Unbound\n",
              "14495      2973  ...                          Aelita: Queen of Mars\n",
              "\n",
              "[20 rows x 3 columns]"
            ]
          },
          "metadata": {
            "tags": []
          },
          "execution_count": 16
        }
      ]
    }
  ]
}